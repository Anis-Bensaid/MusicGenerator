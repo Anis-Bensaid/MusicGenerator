{
 "cells": [
  {
   "cell_type": "code",
   "execution_count": 5,
   "metadata": {},
   "outputs": [],
   "source": [
    "import pandas as pd\n",
    "import numpy as np\n",
    "import re\n",
    "import pickle\n",
    "from random import sample\n",
    "from feature_funcs import *\n",
    "from keras.utils import to_categorical"
   ]
  },
  {
   "cell_type": "markdown",
   "metadata": {},
   "source": [
    "## Read and clean text data"
   ]
  },
  {
   "cell_type": "code",
   "execution_count": 2,
   "metadata": {},
   "outputs": [],
   "source": [
    "with open(\"../data/Jigs.txt\") as my_file:\n",
    "    abc_text = my_file.read()\n",
    "\n",
    "# Cut out unnecessary backslashes\n",
    "abc_text = re.sub('\\\\\\\\+\\n', '\\n', abc_text)\n",
    "\n",
    "# Find starting index of the data we care about\n",
    "start_ind = abc_text.find(\"X:\")\n",
    "abc_text = abc_text[start_ind:]\n",
    "\n",
    "# Encode data\n",
    "num_to_char, char_to_num = create_dictionaries(abc_text)\n",
    "vocab_length = len(num_to_char)\n",
    "\n",
    "text_nums = encoder(abc_text, char_to_num)\n",
    "\n",
    "x_data, y_data = create_training(text_nums, 200, vocab_length)"
   ]
  },
  {
   "cell_type": "code",
   "execution_count": 9,
   "metadata": {},
   "outputs": [],
   "source": [
    "# Split data into training and testing sets\n",
    "training_ind = int(len(abc_text)*0.7)\n",
    "\n",
    "x_train = x_data[:training_ind]\n",
    "y_train = y_data[:training_ind]\n",
    "\n",
    "x_test = x_data[training_ind:]\n",
    "y_test = y_data[training_ind:]"
   ]
  },
  {
   "cell_type": "code",
   "execution_count": 12,
   "metadata": {},
   "outputs": [],
   "source": [
    "# Pickle training and testing data\n",
    "# Pickle the training data in numeric form\n",
    "# create_training takes a long time to run, so next time we can just read the pickled objects\n",
    "x_train_pickle = open('../data/x_train_pickle.obj', 'wb')\n",
    "y_train_pickle = open('../data/y_train_pickle.obj', 'wb')\n",
    "\n",
    "pickle.dump(x_train, x_train_pickle, protocol=4)\n",
    "pickle.dump(y_train, y_train_pickle, protocol=4)\n",
    "\n",
    "x_train_pickle.close()\n",
    "y_train_pickle.close()\n",
    "\n",
    "\n",
    "x_test_pickle = open('../data/x_test_pickle.obj', 'wb')\n",
    "y_test_pickle = open('../data/y_test_pickle.obj', 'wb')\n",
    "\n",
    "pickle.dump(x_test, x_test_pickle, protocol=4)\n",
    "pickle.dump(y_test, y_test_pickle, protocol=4)\n",
    "\n",
    "x_test_pickle.close()\n",
    "y_test_pickle.close()"
   ]
  },
  {
   "cell_type": "markdown",
   "metadata": {},
   "source": [
    "### Getting rid of unnecessary backslashes while keeping \\n"
   ]
  },
  {
   "cell_type": "code",
   "execution_count": 184,
   "metadata": {},
   "outputs": [
    {
     "data": {
      "text/plain": [
       "'|\\n\"A\"ecc c2f|'"
      ]
     },
     "execution_count": 184,
     "metadata": {},
     "output_type": "execute_result"
    }
   ],
   "source": [
    "test = re.sub('\\\\\\\\+\\n', '\\n', '|\\\\\\\\\\\\\\n\"A\"ecc c2f|')\n",
    "test"
   ]
  }
 ],
 "metadata": {
  "kernelspec": {
   "display_name": "Python 3",
   "language": "python",
   "name": "python3"
  },
  "language_info": {
   "codemirror_mode": {
    "name": "ipython",
    "version": 3
   },
   "file_extension": ".py",
   "mimetype": "text/x-python",
   "name": "python",
   "nbconvert_exporter": "python",
   "pygments_lexer": "ipython3",
   "version": "3.7.4"
  }
 },
 "nbformat": 4,
 "nbformat_minor": 2
}
