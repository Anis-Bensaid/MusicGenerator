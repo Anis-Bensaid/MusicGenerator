{
 "cells": [
  {
   "cell_type": "code",
   "execution_count": 123,
   "metadata": {},
   "outputs": [],
   "source": [
    "import pandas as pd\n",
    "import numpy as np\n",
    "import pretty_midi\n",
    "import music21"
   ]
  },
  {
   "cell_type": "code",
   "execution_count": 2,
   "metadata": {},
   "outputs": [],
   "source": [
    "import os\n",
    "os.chdir(\"/Users/desireewaugh/Desktop/MIT/Courses/6.883 - Modeling with ML/Projects/Final Project/MusicGenerator/data\")"
   ]
  },
  {
   "cell_type": "markdown",
   "metadata": {},
   "source": [
    "## Play abc file"
   ]
  },
  {
   "cell_type": "code",
   "execution_count": 13,
   "metadata": {},
   "outputs": [],
   "source": [
    "# Run \"pip install music21\" in your chosen directory\n",
    "from music21 import *"
   ]
  },
  {
   "cell_type": "code",
   "execution_count": 4,
   "metadata": {},
   "outputs": [],
   "source": [
    "music_file = converter.parse('rockethornpipe-1.abc')"
   ]
  },
  {
   "cell_type": "code",
   "execution_count": 5,
   "metadata": {},
   "outputs": [
    {
     "name": "stdout",
     "output_type": "stream",
     "text": [
      "pygame 1.9.6\n",
      "Hello from the pygame community. https://www.pygame.org/contribute.html\n"
     ]
    }
   ],
   "source": [
    "# Need to download pygame to play files: \"pip install pygame\"\n",
    "sp = midi.realtime.StreamPlayer(music_file)\n",
    "sp.play()"
   ]
  },
  {
   "cell_type": "markdown",
   "metadata": {},
   "source": [
    "## With midi files"
   ]
  },
  {
   "cell_type": "code",
   "execution_count": 6,
   "metadata": {},
   "outputs": [],
   "source": [
    "# Data from: https://magenta.tensorflow.org/datasets/groove#dataset\n",
    "# Possible dataset: https://drive.google.com/file/d/14e0MCJD7RH_m7CpsFZWPIpO0WgQrwi64/view\n",
    "os.chdir(\"./groove/drummer1/eval_session\")"
   ]
  },
  {
   "cell_type": "code",
   "execution_count": 216,
   "metadata": {},
   "outputs": [
    {
     "data": {
      "text/plain": [
       "(128, 2672)"
      ]
     },
     "execution_count": 216,
     "metadata": {},
     "output_type": "execute_result"
    }
   ],
   "source": [
    "midi = pretty_midi.PrettyMIDI(\"hotel_california.mid\")\n",
    "piano_midi = midi.instruments[0]\n",
    "piano_roll = piano_midi.get_piano_roll()\n",
    "\n",
    "\n",
    "piano_roll.shape"
   ]
  },
  {
   "cell_type": "code",
   "execution_count": 218,
   "metadata": {},
   "outputs": [
    {
     "data": {
      "text/plain": [
       "[Note(start=1.781493, end=1.789610, pitch=36, velocity=103),\n",
       " Note(start=1.781493, end=1.789610, pitch=42, velocity=72),\n",
       " Note(start=1.781493, end=1.789610, pitch=57, velocity=84),\n",
       " Note(start=2.171103, end=2.179220, pitch=44, velocity=101),\n",
       " Note(start=2.365908, end=2.374025, pitch=42, velocity=89),\n",
       " Note(start=2.560713, end=2.568830, pitch=40, velocity=102),\n",
       " Note(start=2.560713, end=2.568830, pitch=42, velocity=45),\n",
       " Note(start=2.950323, end=2.958440, pitch=44, velocity=95),\n",
       " Note(start=3.145128, end=3.153245, pitch=42, velocity=83),\n",
       " Note(start=3.339933, end=3.348050, pitch=36, velocity=103),\n",
       " Note(start=3.339933, end=3.348050, pitch=42, velocity=39),\n",
       " Note(start=3.729543, end=3.737660, pitch=44, velocity=95),\n",
       " Note(start=3.924348, end=3.932465, pitch=42, velocity=89),\n",
       " Note(start=4.119153, end=4.127270, pitch=40, velocity=102),\n",
       " Note(start=4.119153, end=4.127270, pitch=41, velocity=80),\n",
       " Note(start=4.119153, end=4.127270, pitch=42, velocity=45),\n",
       " Note(start=4.508763, end=4.516880, pitch=44, velocity=97),\n",
       " Note(start=4.703568, end=4.711685, pitch=42, velocity=86),\n",
       " Note(start=4.898373, end=4.906490, pitch=36, velocity=103),\n",
       " Note(start=4.898373, end=4.906490, pitch=42, velocity=48),\n",
       " Note(start=5.287983, end=5.296100, pitch=44, velocity=95),\n",
       " Note(start=5.482788, end=5.490905, pitch=42, velocity=86),\n",
       " Note(start=5.677593, end=5.685710, pitch=40, velocity=102),\n",
       " Note(start=5.677593, end=5.685710, pitch=42, velocity=51),\n",
       " Note(start=6.067203, end=6.075320, pitch=44, velocity=95),\n",
       " Note(start=6.262008, end=6.270125, pitch=42, velocity=83),\n",
       " Note(start=6.456813, end=6.464930, pitch=36, velocity=103),\n",
       " Note(start=6.456813, end=6.464930, pitch=42, velocity=54),\n",
       " Note(start=6.846423, end=6.854540, pitch=44, velocity=97),\n",
       " Note(start=7.041228, end=7.049345, pitch=42, velocity=89),\n",
       " Note(start=7.236033, end=7.244150, pitch=40, velocity=102),\n",
       " Note(start=7.236033, end=7.244150, pitch=43, velocity=72),\n",
       " Note(start=7.236033, end=7.244150, pitch=46, velocity=55),\n",
       " Note(start=7.625643, end=7.633760, pitch=40, velocity=74),\n",
       " Note(start=7.625643, end=7.633760, pitch=43, velocity=80),\n",
       " Note(start=7.625643, end=7.633760, pitch=46, velocity=73),\n",
       " Note(start=8.015253, end=8.023370, pitch=36, velocity=103),\n",
       " Note(start=8.015253, end=8.023370, pitch=42, velocity=83),\n",
       " Note(start=8.404863, end=8.412980, pitch=44, velocity=94),\n",
       " Note(start=8.599668, end=8.607785, pitch=42, velocity=83),\n",
       " Note(start=8.794473, end=8.802590, pitch=40, velocity=102),\n",
       " Note(start=8.794473, end=8.802590, pitch=42, velocity=45),\n",
       " Note(start=9.184083, end=9.192200, pitch=44, velocity=88),\n",
       " Note(start=9.378888, end=9.387005, pitch=42, velocity=83),\n",
       " Note(start=9.573693, end=9.581810, pitch=36, velocity=103),\n",
       " Note(start=9.573693, end=9.581810, pitch=42, velocity=54),\n",
       " Note(start=9.963303, end=9.971420, pitch=44, velocity=90),\n",
       " Note(start=10.158108, end=10.166225, pitch=42, velocity=86),\n",
       " Note(start=10.352913, end=10.361030, pitch=40, velocity=102),\n",
       " Note(start=10.352913, end=10.361030, pitch=42, velocity=57),\n",
       " Note(start=10.352913, end=10.361030, pitch=43, velocity=80),\n",
       " Note(start=10.742523, end=10.750640, pitch=40, velocity=74),\n",
       " Note(start=10.742523, end=10.750640, pitch=42, velocity=83),\n",
       " Note(start=10.742523, end=10.750640, pitch=43, velocity=88),\n",
       " Note(start=11.132133, end=11.140250, pitch=36, velocity=103),\n",
       " Note(start=11.132133, end=11.140250, pitch=42, velocity=72),\n",
       " Note(start=11.521743, end=11.529860, pitch=44, velocity=78),\n",
       " Note(start=11.716548, end=11.724665, pitch=42, velocity=77),\n",
       " Note(start=11.911353, end=11.919470, pitch=40, velocity=102),\n",
       " Note(start=11.911353, end=11.919470, pitch=42, velocity=45),\n",
       " Note(start=12.300963, end=12.309080, pitch=44, velocity=83),\n",
       " Note(start=12.495768, end=12.503885, pitch=42, velocity=83),\n",
       " Note(start=12.690573, end=12.698690, pitch=36, velocity=103),\n",
       " Note(start=12.690573, end=12.698690, pitch=44, velocity=86),\n",
       " Note(start=12.885378, end=12.893495, pitch=40, velocity=59),\n",
       " Note(start=12.982781, end=12.990898, pitch=40, velocity=79),\n",
       " Note(start=13.080183, end=13.088300, pitch=40, velocity=97),\n",
       " Note(start=13.274988, end=13.283105, pitch=40, velocity=91),\n",
       " Note(start=13.469793, end=13.477910, pitch=40, velocity=73),\n",
       " Note(start=13.469793, end=13.477910, pitch=43, velocity=88),\n",
       " Note(start=13.469793, end=13.477910, pitch=44, velocity=107),\n",
       " Note(start=13.664598, end=13.672715, pitch=43, velocity=71),\n",
       " Note(start=13.859403, end=13.867520, pitch=41, velocity=72),\n",
       " Note(start=13.859403, end=13.867520, pitch=66, velocity=81),\n",
       " Note(start=14.054208, end=14.062325, pitch=41, velocity=88),\n",
       " Note(start=14.054208, end=14.062325, pitch=66, velocity=52),\n",
       " Note(start=14.249013, end=14.257130, pitch=36, velocity=103),\n",
       " Note(start=14.249013, end=14.257130, pitch=42, velocity=78),\n",
       " Note(start=14.249013, end=14.257130, pitch=57, velocity=84),\n",
       " Note(start=14.638623, end=14.646740, pitch=44, velocity=90),\n",
       " Note(start=14.833428, end=14.841545, pitch=42, velocity=80),\n",
       " Note(start=15.028233, end=15.036350, pitch=40, velocity=102),\n",
       " Note(start=15.028233, end=15.036350, pitch=42, velocity=57),\n",
       " Note(start=15.417843, end=15.425960, pitch=44, velocity=78),\n",
       " Note(start=15.612648, end=15.620765, pitch=42, velocity=77),\n",
       " Note(start=15.807453, end=15.815570, pitch=36, velocity=103),\n",
       " Note(start=15.807453, end=15.815570, pitch=42, velocity=54),\n",
       " Note(start=16.197063, end=16.205180, pitch=44, velocity=78),\n",
       " Note(start=16.391868, end=16.399985, pitch=42, velocity=80),\n",
       " Note(start=16.586673, end=16.594790, pitch=40, velocity=102),\n",
       " Note(start=16.586673, end=16.594790, pitch=41, velocity=65),\n",
       " Note(start=16.586673, end=16.594790, pitch=42, velocity=48),\n",
       " Note(start=16.976283, end=16.984400, pitch=40, velocity=82),\n",
       " Note(start=16.976283, end=16.984400, pitch=41, velocity=80),\n",
       " Note(start=16.976283, end=16.984400, pitch=46, velocity=64),\n",
       " Note(start=17.365893, end=17.374010, pitch=36, velocity=103),\n",
       " Note(start=17.365893, end=17.374010, pitch=42, velocity=72),\n",
       " Note(start=17.755503, end=17.763620, pitch=44, velocity=78),\n",
       " Note(start=17.950308, end=17.958425, pitch=42, velocity=77),\n",
       " Note(start=18.145113, end=18.153230, pitch=40, velocity=102),\n",
       " Note(start=18.145113, end=18.153230, pitch=42, velocity=57),\n",
       " Note(start=18.534723, end=18.542840, pitch=44, velocity=77),\n",
       " Note(start=18.729528, end=18.737645, pitch=42, velocity=83),\n",
       " Note(start=18.924333, end=18.932450, pitch=36, velocity=103),\n",
       " Note(start=18.924333, end=18.932450, pitch=42, velocity=57),\n",
       " Note(start=19.313943, end=19.322060, pitch=44, velocity=62),\n",
       " Note(start=19.508748, end=19.516865, pitch=42, velocity=77),\n",
       " Note(start=19.703553, end=19.711670, pitch=40, velocity=102),\n",
       " Note(start=19.703553, end=19.711670, pitch=41, velocity=88),\n",
       " Note(start=19.703553, end=19.711670, pitch=42, velocity=57),\n",
       " Note(start=20.093163, end=20.101280, pitch=36, velocity=103),\n",
       " Note(start=20.093163, end=20.101280, pitch=44, velocity=121),\n",
       " Note(start=20.287968, end=20.296085, pitch=42, velocity=83),\n",
       " Note(start=20.482773, end=20.490890, pitch=36, velocity=103),\n",
       " Note(start=20.482773, end=20.490890, pitch=42, velocity=63),\n",
       " Note(start=20.872383, end=20.880500, pitch=44, velocity=80),\n",
       " Note(start=21.067188, end=21.075305, pitch=42, velocity=80),\n",
       " Note(start=21.261993, end=21.270110, pitch=40, velocity=102),\n",
       " Note(start=21.261993, end=21.270110, pitch=42, velocity=57),\n",
       " Note(start=21.651603, end=21.659720, pitch=44, velocity=89),\n",
       " Note(start=21.846408, end=21.854525, pitch=42, velocity=94),\n",
       " Note(start=22.041213, end=22.049330, pitch=36, velocity=103),\n",
       " Note(start=22.041213, end=22.049330, pitch=42, velocity=66),\n",
       " Note(start=22.430823, end=22.438940, pitch=44, velocity=92),\n",
       " Note(start=22.625628, end=22.633745, pitch=42, velocity=92),\n",
       " Note(start=22.820433, end=22.828550, pitch=40, velocity=102),\n",
       " Note(start=22.820433, end=22.828550, pitch=41, velocity=88),\n",
       " Note(start=22.820433, end=22.828550, pitch=42, velocity=63),\n",
       " Note(start=23.210043, end=23.218160, pitch=36, velocity=103),\n",
       " Note(start=23.210043, end=23.218160, pitch=44, velocity=78),\n",
       " Note(start=23.404848, end=23.412965, pitch=42, velocity=89),\n",
       " Note(start=23.599653, end=23.607770, pitch=36, velocity=103),\n",
       " Note(start=23.599653, end=23.607770, pitch=42, velocity=63),\n",
       " Note(start=23.989263, end=23.997380, pitch=44, velocity=85),\n",
       " Note(start=24.184068, end=24.192185, pitch=42, velocity=92),\n",
       " Note(start=24.378873, end=24.386990, pitch=40, velocity=102),\n",
       " Note(start=24.378873, end=24.386990, pitch=42, velocity=63),\n",
       " Note(start=24.768483, end=24.776600, pitch=44, velocity=68),\n",
       " Note(start=24.963288, end=24.971405, pitch=42, velocity=83),\n",
       " Note(start=25.158093, end=25.166210, pitch=36, velocity=103),\n",
       " Note(start=25.158093, end=25.166210, pitch=46, velocity=72),\n",
       " Note(start=25.352898, end=25.361015, pitch=40, velocity=50),\n",
       " Note(start=25.450301, end=25.458417, pitch=40, velocity=62),\n",
       " Note(start=25.547703, end=25.555820, pitch=40, velocity=79),\n",
       " Note(start=25.742508, end=25.750625, pitch=40, velocity=97),\n",
       " Note(start=25.937313, end=25.945430, pitch=40, velocity=79),\n",
       " Note(start=26.326923, end=26.335040, pitch=40, velocity=90),\n",
       " Note(start=26.716533, end=26.724650, pitch=36, velocity=103),\n",
       " Note(start=26.716533, end=26.724650, pitch=42, velocity=106),\n",
       " Note(start=26.716533, end=26.724650, pitch=57, velocity=84),\n",
       " Note(start=26.716533, end=26.724650, pitch=69, velocity=78)]"
      ]
     },
     "execution_count": 218,
     "metadata": {},
     "output_type": "execute_result"
    }
   ],
   "source": [
    "midi.instruments[0].notes"
   ]
  },
  {
   "cell_type": "code",
   "execution_count": null,
   "metadata": {},
   "outputs": [],
   "source": []
  },
  {
   "cell_type": "code",
   "execution_count": 196,
   "metadata": {},
   "outputs": [
    {
     "data": {
      "text/plain": [
       "Instrument(program=0, is_drum=True, name=\"(C) HitTrax: Hotel California\")"
      ]
     },
     "execution_count": 196,
     "metadata": {},
     "output_type": "execute_result"
    }
   ],
   "source": [
    "piano_midi"
   ]
  },
  {
   "cell_type": "code",
   "execution_count": 193,
   "metadata": {},
   "outputs": [
    {
     "data": {
      "text/plain": [
       "0.0"
      ]
     },
     "execution_count": 193,
     "metadata": {},
     "output_type": "execute_result"
    }
   ],
   "source": [
    "sum(piano_roll[100,:])"
   ]
  },
  {
   "cell_type": "code",
   "execution_count": 179,
   "metadata": {},
   "outputs": [
    {
     "data": {
      "text/html": [
       "<div>\n",
       "<style scoped>\n",
       "    .dataframe tbody tr th:only-of-type {\n",
       "        vertical-align: middle;\n",
       "    }\n",
       "\n",
       "    .dataframe tbody tr th {\n",
       "        vertical-align: top;\n",
       "    }\n",
       "\n",
       "    .dataframe thead th {\n",
       "        text-align: right;\n",
       "    }\n",
       "</style>\n",
       "<table border=\"1\" class=\"dataframe\">\n",
       "  <thead>\n",
       "    <tr style=\"text-align: right;\">\n",
       "      <th></th>\n",
       "      <th>Start</th>\n",
       "      <th>End</th>\n",
       "      <th>Pitch</th>\n",
       "      <th>Velocity</th>\n",
       "      <th>Program</th>\n",
       "      <th>is_drum</th>\n",
       "      <th>Name</th>\n",
       "    </tr>\n",
       "  </thead>\n",
       "  <tbody>\n",
       "    <tr>\n",
       "      <th>0</th>\n",
       "      <td>1.781493</td>\n",
       "      <td>1.789610</td>\n",
       "      <td>36</td>\n",
       "      <td>103</td>\n",
       "      <td>0</td>\n",
       "      <td>True</td>\n",
       "      <td>(C) HitTrax: Hotel California</td>\n",
       "    </tr>\n",
       "    <tr>\n",
       "      <th>1</th>\n",
       "      <td>1.781493</td>\n",
       "      <td>1.789610</td>\n",
       "      <td>42</td>\n",
       "      <td>72</td>\n",
       "      <td>0</td>\n",
       "      <td>True</td>\n",
       "      <td>(C) HitTrax: Hotel California</td>\n",
       "    </tr>\n",
       "    <tr>\n",
       "      <th>2</th>\n",
       "      <td>1.781493</td>\n",
       "      <td>1.789610</td>\n",
       "      <td>57</td>\n",
       "      <td>84</td>\n",
       "      <td>0</td>\n",
       "      <td>True</td>\n",
       "      <td>(C) HitTrax: Hotel California</td>\n",
       "    </tr>\n",
       "    <tr>\n",
       "      <th>3</th>\n",
       "      <td>2.171103</td>\n",
       "      <td>2.179220</td>\n",
       "      <td>44</td>\n",
       "      <td>101</td>\n",
       "      <td>0</td>\n",
       "      <td>True</td>\n",
       "      <td>(C) HitTrax: Hotel California</td>\n",
       "    </tr>\n",
       "    <tr>\n",
       "      <th>4</th>\n",
       "      <td>2.365908</td>\n",
       "      <td>2.374025</td>\n",
       "      <td>42</td>\n",
       "      <td>89</td>\n",
       "      <td>0</td>\n",
       "      <td>True</td>\n",
       "      <td>(C) HitTrax: Hotel California</td>\n",
       "    </tr>\n",
       "  </tbody>\n",
       "</table>\n",
       "</div>"
      ],
      "text/plain": [
       "      Start       End  Pitch  Velocity  Program  is_drum  \\\n",
       "0  1.781493  1.789610     36       103        0     True   \n",
       "1  1.781493  1.789610     42        72        0     True   \n",
       "2  1.781493  1.789610     57        84        0     True   \n",
       "3  2.171103  2.179220     44       101        0     True   \n",
       "4  2.365908  2.374025     42        89        0     True   \n",
       "\n",
       "                            Name  \n",
       "0  (C) HitTrax: Hotel California  \n",
       "1  (C) HitTrax: Hotel California  \n",
       "2  (C) HitTrax: Hotel California  \n",
       "3  (C) HitTrax: Hotel California  \n",
       "4  (C) HitTrax: Hotel California  "
      ]
     },
     "execution_count": 179,
     "metadata": {},
     "output_type": "execute_result"
    }
   ],
   "source": [
    "# Convert midi file to a dataframe\n",
    "# Reference: https://www.audiolabs-erlangen.de/resources/MIR/FMP/C1/C1S2_MIDI.html\n",
    "def midi_df(midi_file):\n",
    "    midi_info = []\n",
    "    for instrument in midi_file.instruments:\n",
    "        for note in instrument.notes:\n",
    "            start = note.start\n",
    "            end = note.end\n",
    "            pitch = note.pitch\n",
    "            velocity = note.velocity\n",
    "            midi_info.append([start, end, pitch, velocity, \n",
    "                              instrument.program, instrument.is_drum, instrument.name])\n",
    "\n",
    "    df = pd.DataFrame(midi_info, columns=['Start', 'End', 'Pitch', 'Velocity', \n",
    "                                                   'Program', 'is_drum', 'Name'])\n",
    "    return df\n",
    "    \n",
    "test_df = midi_df(midi)\n",
    "test_df.head()"
   ]
  },
  {
   "cell_type": "code",
   "execution_count": 180,
   "metadata": {},
   "outputs": [
    {
     "data": {
      "text/html": [
       "<div>\n",
       "<style scoped>\n",
       "    .dataframe tbody tr th:only-of-type {\n",
       "        vertical-align: middle;\n",
       "    }\n",
       "\n",
       "    .dataframe tbody tr th {\n",
       "        vertical-align: top;\n",
       "    }\n",
       "\n",
       "    .dataframe thead th {\n",
       "        text-align: right;\n",
       "    }\n",
       "</style>\n",
       "<table border=\"1\" class=\"dataframe\">\n",
       "  <thead>\n",
       "    <tr style=\"text-align: right;\">\n",
       "      <th></th>\n",
       "      <th>Start</th>\n",
       "      <th>End</th>\n",
       "      <th>Pitch</th>\n",
       "      <th>Velocity</th>\n",
       "      <th>Program</th>\n",
       "      <th>is_drum</th>\n",
       "      <th>Name</th>\n",
       "    </tr>\n",
       "  </thead>\n",
       "  <tbody>\n",
       "    <tr>\n",
       "      <th>0</th>\n",
       "      <td>1.781493</td>\n",
       "      <td>1.789610</td>\n",
       "      <td>36</td>\n",
       "      <td>103</td>\n",
       "      <td>0</td>\n",
       "      <td>True</td>\n",
       "      <td>Acoustic Grand Piano</td>\n",
       "    </tr>\n",
       "    <tr>\n",
       "      <th>1</th>\n",
       "      <td>1.781493</td>\n",
       "      <td>1.789610</td>\n",
       "      <td>42</td>\n",
       "      <td>72</td>\n",
       "      <td>0</td>\n",
       "      <td>True</td>\n",
       "      <td>Acoustic Grand Piano</td>\n",
       "    </tr>\n",
       "    <tr>\n",
       "      <th>2</th>\n",
       "      <td>1.781493</td>\n",
       "      <td>1.789610</td>\n",
       "      <td>57</td>\n",
       "      <td>84</td>\n",
       "      <td>0</td>\n",
       "      <td>True</td>\n",
       "      <td>Acoustic Grand Piano</td>\n",
       "    </tr>\n",
       "    <tr>\n",
       "      <th>3</th>\n",
       "      <td>2.171103</td>\n",
       "      <td>2.179220</td>\n",
       "      <td>44</td>\n",
       "      <td>101</td>\n",
       "      <td>0</td>\n",
       "      <td>True</td>\n",
       "      <td>Acoustic Grand Piano</td>\n",
       "    </tr>\n",
       "    <tr>\n",
       "      <th>4</th>\n",
       "      <td>2.365908</td>\n",
       "      <td>2.374025</td>\n",
       "      <td>42</td>\n",
       "      <td>89</td>\n",
       "      <td>0</td>\n",
       "      <td>True</td>\n",
       "      <td>Acoustic Grand Piano</td>\n",
       "    </tr>\n",
       "  </tbody>\n",
       "</table>\n",
       "</div>"
      ],
      "text/plain": [
       "      Start       End  Pitch  Velocity  Program  is_drum                  Name\n",
       "0  1.781493  1.789610     36       103        0     True  Acoustic Grand Piano\n",
       "1  1.781493  1.789610     42        72        0     True  Acoustic Grand Piano\n",
       "2  1.781493  1.789610     57        84        0     True  Acoustic Grand Piano\n",
       "3  2.171103  2.179220     44       101        0     True  Acoustic Grand Piano\n",
       "4  2.365908  2.374025     42        89        0     True  Acoustic Grand Piano"
      ]
     },
     "execution_count": 180,
     "metadata": {},
     "output_type": "execute_result"
    }
   ],
   "source": [
    "# Create midi file from a dataframe\n",
    "\n",
    "# Source: http://craffel.github.io/pretty-midi/\n",
    "\n",
    "created_midi = pretty_midi.PrettyMIDI()\n",
    "\n",
    "# Add instruments\n",
    "for i in range((test_df).shape[0]):\n",
    "    instrument = pretty_midi.Instrument(program=test_df.iloc[i,4], \n",
    "                                        is_drum=test_df.iloc[i,5],\n",
    "                                        name=\"Acoustic Grand Piano\")\n",
    "\n",
    "    note = pretty_midi.Note(\n",
    "        velocity=test_df.iloc[i, 3], \n",
    "        pitch=test_df.iloc[i, 2], \n",
    "        start=test_df.iloc[i, 0], \n",
    "        end=test_df.iloc[i, 1])\n",
    "    instrument.notes.append(note)\n",
    "    created_midi.instruments.append(instrument)\n",
    "\n",
    "created_midi.write(\"test_midi.midi\")\n",
    "#created_midi.key_signature_changes = midi.key_signature_changes\n",
    "#created_midi.time_signature_changes = midi.time_signature_changes\n",
    "\n",
    "midi_matrix(created_midi).head()"
   ]
  },
  {
   "cell_type": "code",
   "execution_count": 181,
   "metadata": {},
   "outputs": [],
   "source": [
    "# Play written file\n",
    "b = converter.parse(\"test_midi.midi\")\n",
    "sp = music21.midi.realtime.StreamPlayer(b)\n",
    "sp.play()"
   ]
  },
  {
   "cell_type": "code",
   "execution_count": 182,
   "metadata": {},
   "outputs": [],
   "source": [
    "# Play actual file\n",
    "b = converter.parse(\"hotel_california.mid\")\n",
    "sp = music21.midi.realtime.StreamPlayer(b)\n",
    "sp.play()"
   ]
  },
  {
   "cell_type": "code",
   "execution_count": null,
   "metadata": {},
   "outputs": [],
   "source": []
  }
 ],
 "metadata": {
  "kernelspec": {
   "display_name": "Python 3",
   "language": "python",
   "name": "python3"
  },
  "language_info": {
   "codemirror_mode": {
    "name": "ipython",
    "version": 3
   },
   "file_extension": ".py",
   "mimetype": "text/x-python",
   "name": "python",
   "nbconvert_exporter": "python",
   "pygments_lexer": "ipython3",
   "version": "3.7.4"
  }
 },
 "nbformat": 4,
 "nbformat_minor": 2
}
