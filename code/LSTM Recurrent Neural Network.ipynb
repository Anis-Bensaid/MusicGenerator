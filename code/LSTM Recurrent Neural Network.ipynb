{
 "cells": [
  {
   "cell_type": "code",
   "execution_count": 41,
   "metadata": {},
   "outputs": [],
   "source": [
    "import numpy as np\n",
    "import re\n",
    "import pickle\n",
    "import h5py\n",
    "from random import sample\n",
    "import tensorflow as tf\n",
    "from keras.models import Model\n",
    "from keras.callbacks import ModelCheckpoint\n",
    "from keras.layers import Input\n",
    "from keras.layers import LSTM, Embedding\n",
    "from tensorflow.keras import layers\n",
    "from keras.layers.core import Dense, Dropout, Activation, Flatten\n",
    "from keras import backend as K\n",
    "from feature_funcs import *\n",
    "from keras.utils import to_categorical"
   ]
  },
  {
   "cell_type": "markdown",
   "metadata": {},
   "source": [
    "### Prepare Training Data"
   ]
  },
  {
   "cell_type": "code",
   "execution_count": 53,
   "metadata": {},
   "outputs": [],
   "source": [
    "# Create dictionary\n",
    "with open(\"../data/Jigs.txt\") as my_file:\n",
    "    abc_text = my_file.read()\n",
    "\n",
    "# Cut out unnecessary backslashes\n",
    "abc_text = re.sub('\\\\\\\\+\\n', '\\n', abc_text)\n",
    "\n",
    "# Find starting index of the data we care about\n",
    "start_ind = abc_text.find(\"X:\")\n",
    "abc_text = abc_text[start_ind:]\n",
    "\n",
    "# Encode data\n",
    "num_to_char, char_to_num = create_dictionaries(abc_text)"
   ]
  },
  {
   "cell_type": "code",
   "execution_count": 45,
   "metadata": {},
   "outputs": [
    {
     "data": {
      "text/plain": [
       "88"
      ]
     },
     "execution_count": 45,
     "metadata": {},
     "output_type": "execute_result"
    }
   ],
   "source": [
    "# Open pickled training data so you don't have to re-run create_training\n",
    "x_file_pickle = open('../data/x_train_pickle.obj', 'rb')\n",
    "y_file_pickle = open('../data/y_train_pickle.obj', 'rb')\n",
    "\n",
    "x_train = pickle.load(x_file_pickle)\n",
    "y_train = pickle.load(y_file_pickle)\n",
    "\n",
    "x_file_pickle.close()\n",
    "y_file_pickle.close()\n",
    "\n",
    "vocab_length = x_train.shape[2]\n",
    "vocab_length"
   ]
  },
  {
   "cell_type": "code",
   "execution_count": 46,
   "metadata": {},
   "outputs": [
    {
     "name": "stdout",
     "output_type": "stream",
     "text": [
      "(90871, 200, 88) (38746, 200, 88)\n",
      "(90871, 88) (38746, 88)\n",
      "88\n"
     ]
    }
   ],
   "source": [
    "print(x_train.shape, x_test.shape)\n",
    "print(y_train.shape, y_test.shape)\n",
    "print(vocab_length)"
   ]
  },
  {
   "cell_type": "markdown",
   "metadata": {},
   "source": [
    "### Build & Compile RNN"
   ]
  },
  {
   "cell_type": "markdown",
   "metadata": {},
   "source": [
    "Sources: <br />\n",
    "https://towardsdatascience.com/how-to-generate-music-using-a-lstm-neural-network-in-keras-68786834d4c5  <br />\n",
    "https://github.com/aamini/introtodeeplearning/blob/master/lab1/Part2_Music_Generation.ipynb  <br /> https://medium.com/datadriveninvestor/music-generation-using-deep-learning-85010fb982e2 \n",
    "<br /> https://keras.io/examples/lstm_text_generation/"
   ]
  },
  {
   "cell_type": "code",
   "execution_count": 47,
   "metadata": {},
   "outputs": [
    {
     "name": "stdout",
     "output_type": "stream",
     "text": [
      "Model: \"sequential_3\"\n",
      "_________________________________________________________________\n",
      "Layer (type)                 Output Shape              Param #   \n",
      "=================================================================\n",
      "lstm_9 (LSTM)                (None, 200, 128)          111104    \n",
      "_________________________________________________________________\n",
      "lstm_10 (LSTM)               (None, 200, 256)          394240    \n",
      "_________________________________________________________________\n",
      "lstm_11 (LSTM)               (None, 512)               1574912   \n",
      "_________________________________________________________________\n",
      "dense_3 (Dense)              (None, 88)                45144     \n",
      "=================================================================\n",
      "Total params: 2,125,400\n",
      "Trainable params: 2,125,400\n",
      "Non-trainable params: 0\n",
      "_________________________________________________________________\n"
     ]
    }
   ],
   "source": [
    "model = tf.keras.Sequential()\n",
    "model.add(layers.LSTM(128, input_shape=(x_train.shape[1], x_train.shape[2]), return_sequences=True))\n",
    "model.add(layers.LSTM(256, return_sequences=True))\n",
    "model.add(layers.LSTM(512))\n",
    "model.add(layers.Dense(vocab_length, activation='softmax'))\n",
    "\n",
    "model.summary()\n"
   ]
  },
  {
   "cell_type": "code",
   "execution_count": 48,
   "metadata": {},
   "outputs": [],
   "source": [
    "# rmsprop: Divide the learning rate for a weight by a running average of the\n",
    "# magnitues of the recent gradients for that weight\n",
    "model.compile(loss='categorical_crossentropy', optimizer='rmsprop')"
   ]
  },
  {
   "cell_type": "markdown",
   "metadata": {},
   "source": [
    "### Train RNN\n",
    "Epoch: When the Neural Network sees all of the training data <br />\n",
    "Batch: Subset of the data <br />\n",
    "i.e. If you have 1000 data points, your batch size is 500 and you want 1 epoch, then the NN will do 2 iterations."
   ]
  },
  {
   "cell_type": "code",
   "execution_count": 49,
   "metadata": {},
   "outputs": [
    {
     "name": "stdout",
     "output_type": "stream",
     "text": [
      "Train on 90871 samples\n",
      "90871/90871 [==============================] - 2609s 29ms/sample - loss: 3.0017\n"
     ]
    },
    {
     "data": {
      "text/plain": [
       "<tensorflow.python.keras.callbacks.History at 0xa483b1f50>"
      ]
     },
     "execution_count": 49,
     "metadata": {},
     "output_type": "execute_result"
    }
   ],
   "source": [
    "# Use checkpoints to save training weights before the model finishes training\n",
    "# Using this file path, the model checkpoints will be saved with the epoch number \n",
    "# and the validation loss in the filename.\n",
    "weights_filepath = \"weights.hdf5\"\n",
    "\n",
    "checkpoint = ModelCheckpoint(\n",
    "    weights_filepath, monitor=\"loss\", verbose=0,\n",
    "    save_best_only=True, mode=\"min\")\n",
    "\n",
    "callbacks_list = [checkpoint]\n",
    "\n",
    "# Fit model\n",
    "model.fit(x_train, y_train, epochs=1, batch_size=400, callbacks=callbacks_list)"
   ]
  },
  {
   "cell_type": "code",
   "execution_count": null,
   "metadata": {},
   "outputs": [
    {
     "name": "stdout",
     "output_type": "stream",
     "text": [
      "Train on 90871 samples\n",
      "Epoch 1/3\n",
      "90871/90871 [==============================] - 3855s 42ms/sample - loss: 1.9537\n",
      "Epoch 2/3\n",
      "90871/90871 [==============================] - 4419s 49ms/sample - loss: 1.4847\n",
      "Epoch 3/3\n",
      "35800/90871 [==========>...................] - ETA: 41:59 - loss: 1.3167"
     ]
    }
   ],
   "source": [
    "# Continue training model\n",
    "model.load_weights(\"weights.hdf5\")\n",
    "model.compile(loss='categorical_crossentropy', optimizer='rmsprop')\n",
    "\n",
    "# Fit model\n",
    "model.fit(x_train, y_train, epochs=3, batch_size=200, callbacks=callbacks_list)"
   ]
  },
  {
   "cell_type": "code",
   "execution_count": 50,
   "metadata": {},
   "outputs": [],
   "source": [
    "# Open pickled test data so you don't have to re-run create_training\n",
    "x_file_pickle = open('../data/x_test_pickle.obj', 'rb')\n",
    "y_file_pickle = open('../data/y_test_pickle.obj', 'rb')\n",
    "\n",
    "x_test = pickle.load(x_file_pickle)\n",
    "y_test = pickle.load(y_file_pickle)\n",
    "\n",
    "x_file_pickle.close()\n",
    "y_file_pickle.close()"
   ]
  },
  {
   "cell_type": "code",
   "execution_count": 51,
   "metadata": {},
   "outputs": [
    {
     "data": {
      "text/plain": [
       "array([[8.49601493e-05, 1.05421723e-05, 5.40875364e-04, ...,\n",
       "        1.23440474e-01, 7.98791880e-05, 6.57669501e-04],\n",
       "       [1.06582935e-04, 1.03671200e-05, 5.20085916e-04, ...,\n",
       "        1.17945693e-01, 9.87423264e-05, 8.57702398e-04],\n",
       "       [1.13948816e-04, 1.03730554e-05, 3.18021193e-04, ...,\n",
       "        6.06991574e-02, 1.13425369e-04, 8.91434145e-04],\n",
       "       ...,\n",
       "       [1.08138185e-04, 9.71624831e-06, 2.94623896e-04, ...,\n",
       "        2.74599660e-02, 1.23158650e-04, 6.97774871e-04],\n",
       "       [9.29513844e-05, 1.06994094e-05, 2.85862305e-04, ...,\n",
       "        8.73242319e-03, 1.42791905e-04, 4.19296703e-04],\n",
       "       [8.33730301e-05, 1.04457440e-05, 4.07621934e-04, ...,\n",
       "        6.61629252e-03, 1.50311811e-04, 3.17616941e-04]], dtype=float32)"
      ]
     },
     "execution_count": 51,
     "metadata": {},
     "output_type": "execute_result"
    }
   ],
   "source": [
    "predictions = model.predict(x_test)\n",
    "predictions"
   ]
  },
  {
   "cell_type": "code",
   "execution_count": 54,
   "metadata": {},
   "outputs": [
    {
     "name": "stdout",
     "output_type": "stream",
     "text": [
      "ddddddd\"eeddd\"\"dldddd\"\"edRRd\"\"\"dddRdd\"eedddd\"\"eddddddddddddddd\"\"eeddddddddd\"\"eeedddddddddd\"eedddddddd\"eeddddddddd\"\"eeddddsdd\"\"edddddddddddddd\"\"eeddddddd\"\"eedd\"\"\"dddddddddddRdd\"eeddddd\"dlddddd\"\"eedddd\"\"dddddd\"eeddddNNNNNNNeeeeeeeeeeeeeee[[[[[[[[[HHH)rrrreezzzXXXffffffcc&&&&eeeeeeeeeeeeeeee))))eeeeee~~BBBBBB4555NNNNddddd\"\"eeddd\"\"dldddd\"eddddddddd\"\"edRdddddd\"\"eedddddddd\"\"eddd\"\"\"ddddddd\"eedddddddd\"eedddddddd\"\"eedddddddd\"\"edddd\"\"dddddd\"eedddddddd\"eedRddddsddd\"eeddddddd\"eeddd\"\"dldddd\"eeddddddddd\"eedddd\"\"dddddd\"edddd\"\"ddddddsdd\"\"eeddddddd\"\"eddddddddd\"eedddddddddddd\"eedddddddd\"\"edddd\"\"ddddddd\"eedddddddd\"\"eeddddddddd\"\"eedddddddd\"eedddddddd\"eedddddddddd\"eeddddd\"dldddd\"\"eedddddddddd\"\"eeddddd\"dldRdd\"eeddddddddd\"eeddddddddddddd\"eedddNNNNNNNNeeeeeeeeeeeeee[[[[[[[[[[[[H)))rrrrezzzzXXXffffffcc&&&&feeeeeeee)))eeBBBBB555NNNNdddddd\"\"ee\"dd\"\"dldRdd\"eedRd\"\"\"dddddd\"eeRRd\"\"\"dddRdd\"edRdd\"\"dldddd\"edRRd\"\"\"ddddsdd\"eeddddddd\"\"eddd\"\"dldddd\"eddddRddd\"eedddddddd\"eedddddsddd\"eedddddddd\"\"eddddddd\"\"edddddddd\"\"eddddddd\"\"eddd\"\"dldRdd\"edddddNNNNNNNN5eeeeeeeee))))eeee[[[HHH)rrrreezzzXXXffffffcc&&&&eeeeeee))))))))eeeeeeeeeBBBBB4455NNN.dddddd\"\"eeddddddd\"eedddddddd\"eedddd\"\"dddddd\"eedRd\"\"ddddddd\"\"edddddddd\"\"edddddddd\"eedddd\"\"dddddd\"eeRRddddNNNdddd\"\"e\"\"\"\"dddddd\"eddddddddd\"eeddddddd\"\"eddd\"\"dldddd\"edRd\"\"dlddddd\"eedddddddd\"eedddddddd\"\"eRRddddNNNNddd\"eed\"ddddddddddd\"\"eedddddd\"\"eeddddddddddddddddd\"\"eeedddd\"dddddddNddd\"\"ee\"dddddd\"eedddddddK\"eedddddddd\"eeddddsdd\"\"eddddddddddddddd\"\"eedddddd\"\"edddddddd\"eeddddddddddddddddddddddd\"\"ee\"dddddd\"eeddddddd\"\"eedddddddd\"eedddddNN|NNNNNeeeeeeeeeeeeeeeeee[[[[[HH))rrrreezzzzXXXffffffcc&&&&feeeeeeeeeeee)))))kBBBB455NNNNddd\"eedddddddd\"\"eedddddddd\"eedddddddd\"eedddddddd\"\"eddddddddd\"\"edddddddd\"\"\"eddddddddddddldRdd\"\"eedddddddd\"eedddddddd\"\"eedddddddd\"eeddddddddd\"\"edddddddd\"eedddddddd\"eedddd\"\"dldddd\"\"edddd\"\"ddddddd\"eedddddddd\"\"eedddddddd\"eeddddddd\"\"edddddddddddsdd\"\"eeddd\"\"dddddd\"eddddddddd\"\"edddddsdd\"\"eeddddddddd\"\"eedddddddd\"eedddddddd\"\"eddddddd\"\"eedddddddsddd\"eeddddddd\"\"edddddddd\"\"eedddddddddd\"eedddddddd\"eeddddNNNNNNNN5eeeeeeeeeeeeeeee[[[HHH)rrrreezzzXXXffffffcc&&&&feeeeeee))))))))eeeeeeeeeeeBBBB55NN....eedddddddd\"\"edddd\"\"dldddd\"eedddddddddddd\"eeddddddsdd\"\"edddddddd\"\"edddd\"\"dldddd\"eeddd\"\"dldddd\"eddddddNNNddddddd\"\"\"eeddddddd\"\"edddddddd\"\"eddddd\"dldddd\"eeddddddddddNddd\"\"eeddddddd\"\"edddddddd\"eeddd\"\"dldddd\"eddddddNNNsdd\"\"eedd\"\"ddddddd\"\"dddd\"\"dddddd\"eddddddddd\"\"edddddsddd\"eeddd\"\"dddddd\"edddd\"\"dldddd\"eddRd\"\"dldRdd\"eedRdddddldNNNNNNNNN5eeeeeeeeeeeeeeee[[[[[[HH))rrrreezzzXXXffffffcc&&&&eeeeeeeBBB55555...N.d\"\"\"eeddddddd\"eedddd\"\"dddddd\"eedddddddd\"eeddd\"\"dlddddd\"eedddddddd\"\"edddd\"\"dddddd\"eedddddddd\"\"eRd\"\"dldddddddNddd\"\"eeddddddd\"\"edddd\"\"dddddd\"eedddddddd\"eeddd\"\"ddddd\"eddddd\"\"ddddddd\"eedddddddldddd\"eedddddddd\"\"eRd\"\"dldddNNNNNNN5eeeeeeeeeeeee[[HHH))))rrrreezzzzXXXffffffcc&&&&eeeeeeeeeeeee)))))kBBBB455NNNNddddddddddd\"\"\"eeddddddd\"eeddd\"\"dldddd\"\"\"dddddddddddd\"\"eeddd\"\"dddddd\"edddddddsdd\"\"edddd\"dlddd\"\"eddddd\"ddddRdd\"eeddddddNNNeddd\"\"eeddddddd\"\"edddddddddd\"eedddddddd\"eeddddd\"dddddd\"eedddddddd\"\"edddddddd\"\"eeddddddddd\"\"eddddddddddddd\"\"eeddddddd\"eeddd\"\"dldddd\"\"\"dddddddddddd\"\"eeddd\"\"dldddd\"eeddddddsdd\"\"edddd\"dlddd\"\"eddddd\"ddddRdd\"eeddddddNNNeddd\"\"eeddddddd\"\"eedddddddK\"edddddddsdd\"\"edddd\"\"dlddd\"eedddddddd\"\"eddddddd\"\"eddddK\"dddddd\"edRddddNN|NNNNNeeeeeeeeeeeeeeee[[[HHH))rrrrezzzzXXXffffffcc&&&&feeeeeeee)))))eeeee~BBBBB4555N...\"eddddddddd\"\"eddd\"\"dddddd\"\"eddddddddddddd\"eedddddddddddd\"eedRd\"\"dlddddd\"eeddd\"\"dldRdd\"\"edRdd\"\"ddddddd\"eedddddNsddd\"eedddddd\"\"eedddddddd\"eedddddddd\"eeddddddRdd\"\"edddddddd\"eedddddddd\"\"eeddddddddK\"eeddd\"\"dldddNNNNNNN5eeeeeeeeeeeeee[[[HH))rrreezzzXXXffffffcc&&&&eeeeeeeee)))))eeeee~BBBBB4555NNNddd\"eedddddddddddddddd\"\"eeeddddddd\"\"edddddddsdd\"\"ed\"dddddd\"eedddddddd\"eeddd\"\"dldddd\"\"edRd\"\"dldddNsdd\"\"eeddddddddddddddd\"\"eeddddddd\"\"edddddddsddd\"eeddddddddK\"eedddddddd\"\"eedddd\"ddddddd\"eddddddNNNNNNNN5eeeeeeeeeeeeeeee[[[[[[HH))rrrrezzzzXXXffffffcc&&&&feeeeeee))))))))))))eeeeeee~~BBBBB4555NNNNddd\"eeddddddddddddddddd\"\"eeddddddd\"\"eddddddddddddddddddd\"\"ee\"dddddd\"\"eeddddddddd\"\"edRd\"\"\"dddddd\"eeddddddddddddddddd\"\"ee\"dd\"\"dlddddd\"eeddddddddd\"eddd\"\"dddddddsdd\"\"eeddddddd\"eedddd\"dlddRdd\"eeRRdd\"\"ddddNsdd\"\"eeddddddddddddddddd\"\"eeddd\"\"dddddd\"eddddddsddd\"eeedd\"\"ddddddd\"eddddd\"\"dlddsdd\"eedddddddd\"eedddd\"ddddddd\"eeddddddddd\"\"edddddddd\"\"eddddddddd\"\"eedddddddd\"\"eeddddddddd\"eeddddd\"dldddd\"\"edRRd\"\"\"dddRdd\"eeRdddNNN|NNNNNeeeeeeeeeeeeeeeeevv[[[HH))rrrreezzzXXXsfffffcc&&&&feeeeeee))))))))))eeeeeee~BBBBBB4555N....edRdd\"dldRdd\"eeRdd\"dldddd\"edddddddNNeddddddd\"\"eeddddddd\"eeddddddsddd\"eeddddd\"dldddd\"edddddNsddd\"edddddd\"\"eeeddddddd\"\"edddd\"\"dldddd\"eddddddddd\"eedddddd\"\"eeddddddddddd\"eedddddddd\"eedddddNNNNNNN5eeeeeeeeeee))))))rrrrezzzzXXXffffffc&&&&&eeeeeeee)))))eeeeeeeeeeeee))ee~BBBB555NNNNdNNNNddd\"\"eedddd\"dddddd\"eddddddddd\"\"edddd\"dldddd\"\"eddddddNsdd\"\"eeddd\"\"dddddd\"eddddddddd\"\"edddd\"dldddd\"\"edddd\"\"dddddddNNNNN\"dd\"\"eeddddddd\"eeddddddsdd\"\"eeddddddd\"eedddddddddddsdd\"eedddddddd\"\"eeddddddsdd\"\"eedddddddd\"eddddddNNNNe\"dddddddeddd\"\"eeeddddddd\"\"edddddddddddRdd\"\"eedddddddd\"\"eeddddddsddd\"eedddddddd\"\"eedddddddd\"\"eeddddddddd\"eddddddNNNNNNNN5eeeeeeee)))))))))))))rrrrezzzzXXXffffffcc&&&&eeeeeeeeeeee)))eBBBB555NNNNdddddddddd\"\"\"eeddddddd\"eedRdddddddRdd\"eedRdddddd\"\"eddd\"\"dddddddd\"eedddddddd\"eedRddd\"dddRdd\"eedRddddddd\"eedRd\"\"dldddddNNNddddddd\"\"\"eeddddddd\"eedddd\"\"dddddd\"eeRddddddd\"\"eeddddddddldddddddddddd\"eedddddddd\"\"edddddddd\"eeddd\"\"dldddd\"\"edRRd\"\"llNNNNNNNNNN5eeeeeeeeeeeee[HH))rrrrezzzzXXXffffffcc&&&&eeeeee))))))eeeeeeeBBBBBB455NNNNdddddd\"\"eeddddddddddRdd\"\"eedddd\"\"ddddd\"eedddd\"\"dddddd\"\"edddddddddddRdd\"\"edRdddddddddRdd\"\"eedddd\"\"ldddd\"eedddd\"\"dddddd\"\"edddd\"\"lddNNNNNNNNdd\"\"eed\"\"dlddd\"\"dddd\"\"dldddd\"eddddddRddd\"eeedd\"\"dlNsddd\"edRdd\"\"dlddd\"eeddd\"\"dldddd\"edddd\"\"dldddd\"\"edddd\"\"lddNNNNNNNNN5eeeeeeeeeeeeee[[HHH))rrrreezzzzXXXffffffcc&&&&eeeeeeee))))eeee))))))eee)eeeeeeee~BBBBB4555N.ddddd\"\"\"dddd\"\"edddddddddNNNNNdddddddddddd\"\"eeddddddddddddd\"\"eeeddddddd\"eedddddddddNNedd\"\"eeddddddd\"\"edddddddddd\"\"ddddK\"eddddd\"dldRdd\"eeRdddddddNNNNedddddddddddddd\"\"ee\"ddddddddNdddd\"eeedddddd\"eedddddddddNddd\"\"eeddddddd\"\"eedddddddddd\"\"edRd\"\"edRddddNsdd\"\"eedddddddddddd\"\"eedddddddddddd\"\"eeedddddd\"eedddddd\"eedddddsddd\"eeddddddddK\"eddddK\"edddd\"dldsdd\"edddddddddddddd\"\"eeedddddddddNNedd\"\"eedddddddddddddddddddd\"\"eedddddddddd\"\"ddddd\"\"edddddddddd\"\"dldd\"\"eeddddNNNNNNN5eeeeeeeeeee)))))))))rrrreezzzzXXXffffffc&&&&&eeeeeeee)))))))eeeee~BBBBBB455NNNNddNNddddddd\"d\"\"\"\"eed\"dddddd\"\"eddd\"\"\"dddddd\"eddddddsddd\"eeddddddRdd\"\"edRdddddd\"\"edddddddd\"eedddd\"dddddd\"\"edRRd\"\"dldNNNNNNddddddddd\"\"eeeddddddd\"\"eedddddddd\"\"eedddddddd\"eedddddNsddd\"eeeddddddd\"\"eedddddddd\"\"edddd\"dldddd\"\"edRRd\"\"lldNNNNNNNNN5eeeeeeeeee))))))))))rrrreezzzzXXXffffffc&&&&&eeeeeeee))))))))eeeeeeeeeeeBBBB55NNNN.dd\"\"eedddddddd\"\"eedddddddd\"\"edddddddd\"eeddddddsddd\"eedddddddd\"\"eedddddddd\"\"edddddddddd\"\"eeRd\"\"dlddddddd\"eedRd\"\"dlddsddd\"eedddddddd\"\"eedddddddd\"eedddddddd\"eeddddddsddd\"eedddddddd\"\"eedddddddd\"\"edddddddd\"\"edRd\"\"dldddddd\"\"eddd\"\"dldddd\"eeRRdddddddRdd\"eedRdddddd\"eeddddddsdd\"\"eddd\"\"dldddd\"edRRdddddddRdd\"eedRdddddd\"\"edRd\"\"dldddNNNNNNNN5eeeeeeeeeeeeee[[HH))rrrrezzzzXXXffffffcc&&&&eeeeeee)))))eeeeeeeeeeeeeeBBBBB4555NNN.dd\"eeddddddddddddddd\"\"eedd\"\"dddddd\"\"edddd\"\"ddddRdd\"\"edRdddddd\"\"edRdd\"\"dlddd\"\"eddddddddd\"\"eeddd\"\"dddddddNdddddd\"\"eed\"\"dlddd\"\"dddd\"\"dldddd\"eddddddRddd\"eeeddddddlddsddd\"eedddd\"dlddd\"eeddd\"\"dldddd\"edddd\"\"dldddd\"\"edddd\"\"lddNNNNNNNNN5eeeeeeeeeeeeeeeeee[[[[HH)))rrrrrezzzzXXXffffffcc&&&&eeeeee)))))))))eeeBBBB455NNNNdddNddd\"\"eeddddddd\"eeddd\"\"dldddd\"eddddddddd\"\"edddd\"\"ddddddd\"eedddddddd\"\"eddd\"\"dddddd\"eddddddsdd\"\"eeddd\"\"ddddddNNNddd\"\"ee\"dddddd\"eedRddddddddd\"\"\"edddddddddd\"eedddd\"dddddsdd\"eedddddddd\"\"edRdddddd\"eedddddddd\"eedddd\"\"dddddNNNNNNNN5eeeeeeeeeeeeeeee[[[[[[HH))rrrreezzzXXXffffffcc&&&&eeeeeeee))))eeee))))))eeeeeeeeeeee~BBBBB4555N.ddddd\"\"\"dddd\"\"edddd\"\"lddRdd\"\"eeedddddddddd\"eRRd\"\"\"edddddddd\"\"RdRd\"\"RdddRdd\"\"edRd\"\"dldddd\"\"eeeddddddddddRdd\"\"eedRd\"\"dldRdd\"eddddNddddddd\"\"eeddddddd\"eedddddddddddd\"\"edddd\"\"dddddd\"edddd\"\"dldddd\"eeddddddsdd\"\"eeeddddddddddddd\"\"eeddddddddd\"edddddddd\"eedddd\"\"ddddddd\"\"edRddddRdd\"\"eeedddddddddddsdd\"eeddd\"\"dldRdd\"eeRddddddd\"\"edRd\"\"\"dldRdd\"edRddddddd\"\"edddNNNNNNNNeeeeeeeeeeeeee[[[[[[[[[[HH))rrrrezzzzXXXsfffffcc&&&&feeeee)))))))))eeeeeeeeeeeeeeeeeeeeeeeeeBBBBB4555NNN.dd\"eedddddddddddddddd\"\"eedddddddd\"\"edRddddRdd\"\"eddddddddd\"\"edddddddd\"\"eedddddRddd\"eedRd\"\"\"dddRdd\"eedddddddddddddddd\"\"eeddd\"dlddddd\"eeRRdd\"\"dlddddd\"eedddddddd\"\"edRdddRdd\"\"eedddd\"ddddddd\"edRddddNNsddd\"eeeddddddldddd\"\"eedRdddddddRdd\"eedRd\"\"\"ddddlddddd\"edRRdd\"\"dddRdd\"\"eeddddddsddd\"eeddd\"\"ddddddd\"eedddd\"\"dldRdd\"\"edRddddsddd\"eeddd\"\"ddddddd\"\"RdRddRRdldRdd\"eeddd\"\"dldddddd\"\"edRddd\"dldRdd\"eeddd\"\"dldddd\"\"edddd\"\"\"ddddddsdd\"\"eddddddddddddd\"\"eddddddNN||NNNNNeeeeeeeeeeeeeeeeevvvv[[HH))rrrreezzzXXXsfffffcc&&&&feeeeeeee)))))eeeee~BBBBB4555N.d.\"eddddddddd\"eeddddddd\"\"eddddddsdd\"\"edddddddd\"eedddddddd\"eeddddddd\"\"eddddddddd\"\"eeddd\"dlddsdd\"\"ddd\"\"edddd\"edddd\"\"dddddd\"eddd\"\"dlddd\"edddd\"\"dddddd\"eedddddddd\"\"edddddsdd\"\"edddddddd\"\"edddd\"llNNNNNNNNNNeeeeeeeeeeeeeee[[[[[[[[[[[[[[[H))rrrreezzzXXXffffffcc&&&&feeeeeeee)))))eeeee~BBBBB4555NNN.dd\"eedddddddd\"eedRd\"\"dldddd\"\"edddd\"\"dddddd\"eeddd\"\"dlddddd\"eedddddddd\"\"edRd\"\"dldddd\"\"edddd\"\"dddddd\"eedddddddNsdd\"\"eeddddddd\"\"eddddddddd\"\"edddd\"\"dldRdd\"eeddddNsdd\"\"eeddddddd\"eedddddddddRddd\"eedRdd\"\"dddddd\"eeddddddNNNNNNNNeeeeeeeee)))eeeeee[[[[HHH)rrrreezzzzXXXffffffcc&&&&feeeeeeee)))))eeeee~BBBBB4555NNNNddd\"\"eeddd\"\"ddddddd\"eedddddddd\"\"eedddddddd\"\"eddddddddddd\"\"eeddd\"\"ddddddd\"eedddddddd\"\"eeddddddddddd\"\"eeddddddddd\"\"eeddddddddddddd\"\"eeddddddddddddddd\"\"eeddddddd\"eeddddddddNNNNddd\"\"ee\"dddddddddddddd\"\"eedddddddddd\"\"eddd\"\"ddddddddd\"eedddddNNNNNNNeeeeeeeeeeeeeee[[[HH))rrreezzzXXXffffffcc&&&&eeeeeeeee)))))eeeee~BBBBB4555N.d.\"eedddddddd\"\"eddd\"\"dlddd\"eddddddddd\"\"eddddddddd\"\"eeddddddd\"eeddd\"\"dddddd\"eddddddddd\"\"eddddddsddd\"\"\"edddddddd\"\"eeddddddddddRddd\"\"eedddddRdd\"\"eddddddddd\"\"eeddddddddd\"\"eeddddddddddRddd\"\"eedddddRdd\"\"eddddddNNNNNNNNeeeeeeeeee))))ee[[[[[HH))rrreezzzXXXffffffcc&&&&eeeeeeeBBB55555...ddd\"\"\"eeddddddd\"eeRd\"\"dddddd\"edddddddddd\"\"eRR\"\"\"ddddddd\"eedddddddd\"\"edd\"\"dddddd\"eddddddddddRdd\"eeRdddNNNNddNddd\"\"eeddddddd\"eedddddddd\"eeddddddddd\"eeRR\"\"\"ddddddd\"eedddddddd\"eedd\"\"dddddd\"eddddddddddRdd\"eeRdddNNNNNNNN5eeeeeeeeeeeeee[HH)rrrreezzzXXXsfffffcc&&&&eeeeeee))))))))))))))eeeeeeee~BBBBB4555N....eedddddddddddddddd\"\"eeddddddd\"\"edddddddddNsdd\"\"eeddddddsddd\"eedddddddd\"\"eeRR\"\"ddddddNNNNNddddddd\"\"eeedddddddd\"\"edd\"\"eddddddsddd\"\"edddddddd\"\"eddddddddd\"\"eddddd\"\"edddddddddd\"eedddddddd\"\"eedRddddddddddd\"eeddddddddd\"\"eedddddddd\"eeddddddsddd\"eedddddddldddd\"\"edRddddsdd\"\"edddddddddddddddd\"\"eedddddsdd\"\"eedddddddd\"eedddddddd\"\"eedddddddd\"\"eedddddddd\"\"eddddNNNNNNNNeeeeeeeeeeeeee[[[[HHH))rrrrezzzzXXXffffffcc&&&&eeeeeeeee)))))eeeee~BBBBB4555N.d.\"eedddddddd\"\"eeddd\"\"ddddddddddNddd\"\"eeedddddddd\"\"edRdddddd\"\"eeddddd\"dddddd\"eedddd\"ddddddd\"eeRdddNNsddd\"\"eeddddddd\"eeddd\"\"dldddd\"\"eeddddddddd\"eeddddddsddd\"eedddddddd\"eeddd\"\"dddddd\"eedddd\"ddddddd\"eeRdddNNNNNNNNNeeeeeeee)))))))eeee[[H))rrrreezzzXXXffffffcc&&&&eeeeeeeBBB555555.dddddddddd\"\"\"eedddddddd\"\"eedddddddd\"\"eddddddddddddd\"eedRddddddddNsddd\"eedddddddddddd\"\"eedddddddddddsdd\"\"eeddddddddddddd\"\"edddddNNNNNNdddddddd\"\"eeeddddddd\"eedddddddd\"\"edddddddd\"\"eddddddddd\"\"eedddddddd\"\"edddddddd\"\"eeddddddddddddd\"\"edddddNNNNNNNN5eeeeeeeee))))))))))))rrrreezzzzXXXffffffc&&&&&eeeeeeeee)))))eeeee~BBBBB4555NNN.dd\"eeeddddddd\"eeddd\"\"dldddd\"edRddd\"ddddddd\"\"eeddddddddd\"\"edddddddd\"eedddddddd\"\"eedddddddddddd\"eddddddNNNedd\"\"eeddd\"dddddd\"edddd\"\"dldddd\"eeddddddddK\"eedddddddd\"eeddd\"\"dlddddd\"eedddd\"dldddd\"eedddddddddddd\"edRddddsdd\"\"edddd\"dldddd\"edddd\"\"dldsdd\"eeddddddNsddd\"eeeddddddd\"eedddddddd\"\"edddddddd\"\"eedddddddddddd\"edddddNNN|NNNNNeeeeeeeeeeeeee[[[[[[HH)))))rrrrreezzzzXXXffffffcc&&&&eeeeeeeeeeeeeee)))))eeeeee~~BBBBBB4555NNN.dd\"eeeddddddd\"\"eedddd\"\"dddRdd\"eedddddddd\"\"eddddd\"\"\"ddddRdd\"\"ed\"dddddd\"\"eedddd\"\"dddddd\"eedRd\"\"ddddddd\"\"eRddddNNNddd\"\"eeddddddd\"\"edddddddd\"eedddd\"\"ldRdd\"\"eeddddddddd\"eedddddddd\"eedddddsddd\"eedddddddd\"\"eedddddddd\"\"edddd\"\"dddddd\"eedddd\"\"dddddd\"eeddddddsdd\"\"eedddddd\"\"lddddd\"eedddddddd\"eedddd\"\"dldddd\"eedddddddddddd\"eedddddNN||NNNNeeeeeeeee)))))))))))eee[[[[[[[HH)rrrreezzzXXXffffffcc&&&&eeeeee)))))))))eee))))))))eeeeeeeeeeeee~BBBBB4555NNN.dd\"eedddd\"\"dddddd\"eeRRd\"\"\"dldRdd\"eeddd\"\"\"dddddd\"eeRRd\"\"\"dddddd\"eeddd\"\"\"ddddddd\"eedddd\"\"dldddd\"edddddddddd\"eedRdddddd\"eeRRd\"\"\"dddddd\"eeRRd\"\"\"ddddsdd\"eedddd\"\"dlddddd\"eedRd\"\"\"dldddd\"edddd\"\"\"dddddd\"edddd\"\"\"dddddd\"eedddd\"ddddddd\"eeRddddNNsdd\"\"eeddd\"\"dddddd\"edRddddRdd\"\"eddd\"\"ddddddd\"eddddd\"\"dddRdd\"eeddddddsdd\"\"edddddddd\"\"eedddd\"ddddddd\"eedRd\"\"dldddd\"edRRd\"\"\"dddddd\"edRddddNsdd\"\"eddd\"\"ddddddd\"edddd\"\"ddddRdd\"eedddddddd\"eedddddddd\"\"eedddddddd\"eedddddNNNNNNNNeeeeeeeeeeeeeeeee[[HH)rrrreezzzXXXffffffcc&&&&eeeeee))))))))))))))eeeeeeee~BBBBB4555N....eedRd\"\"dddddd\"eedRdddddd\"\"edRd\"\"dldRdd\"eeRddddddd\"\"eddddddddd\"eedddddddd\"eedRdd\"\"dddddd\"\"eeRRdd\"ddddRdd\"eedRd\"\"dddRdd\"eeRRddddsdd\"\"eeRd\"\"dldRdd\"edRdd\"\"lddddd\"eeddd\"\"dldddd\"\"edddddddddddRdd\"eedRdd\"\"dlddddd\"eeddddNNsdd\"\"eeddddddK\"eedddddddd\"eedddddddd\"\"eeddddddsdd\"\"edRd\"\"dldRdd\"eedRd\"\"dldddd\"\"eedddddddddddd\"edddddNNN|NNNNNeeeeeeeee))))))))rrrrrezzzzXXXffffffcc&&&&eeeeeeeee)))))eeeee~BBBBB4555NNN.dd\"eedddddddd\"eedddddddd\"eedddddddddd\"\"eeddddddddd\"\"edddddddd\"\"eedddddddd\"\"eedddddddd\"\"edddddddd\"eeddddddddd\"\"edddddddddd\"\"eedddddddd\"\"eddddddddd\"eedRdddddldRdd\"eeddddddddddd\"\"eeddddddd\"eddddddddd\"\"eddd\"\"dddddd\"edddddddsddd\"eedddddddd\"\"eddddddddddddd\"\"eedddddddd\"\"edddd\"\"ddddRdd\"eedddddddd\"eedddddddd\"eeddd\"\"dldddd\"edddddddsdd\"\"eeddddddd\"eedRdddddd\"\"eedddddddddddddddNNNNNNNNeeeeeeeee)))))))))eeee[[[HH)rrrreezzzXXXffffffcc&&&&eeeeee)))))eeee)))))))eee))))))))))eeeee~BBBB4555NNNNNddd\"\"eeddddddd\"eeddd\"\"dldRdd\"eeRRdd\"\"dddddd\"\"eddddd\"dldddNNNNedd\"\"eeddddddd\"edddd\"\"dddRdd\"eeddd\"\"dldddd\"edddddddddddd\"\"ee\"d\"\"dlddd\"eedddddddd\"\"eeRddddRdd\"\"eeddddddd\"eedddddd\"eedddddddd\"\"edRdddddd\"eedddNNNNNNNN5eeeeeee)))))eeeeeeee[[HH)rrrrezzzXXXffffffcc&&&&eeeeee)))))))))))))))eeeeee~BBBBB455NNNNdNNNddddddd\"\"\"eedddddddd\"eedRd\"\"dldddd\"edRddddddddddd\"\"eedRddddddddRdd\"\"edRdddddd\"eedddddddd\"eedddd\"\"dddddd\"eeddddddNN|NNdddddddd\"\"eeeddddddd\"eedddddddddddd\"eedddddddddddd\"\"eeddddddddddNddd\"\"eeddddddd\"\"edddddddddddd\"eedddddddddddd\"eeddddddddddddd\"eedddddddd\"\"edddddddddddd\"eedddddddddddd\"\"eeddddddsdd\"\"eddd\"\"dddddd\"edddd\"\"dddddd\"edRRddRddddRdd\"eedRdddNNNNNNNNNeeeeeeeeeeeeee[[[[))))e[[[)))rrrreezzzXXXsfffffcc&&&&eeeeeeeeee))))))))))))))eeeeeeeee~BBBBB4555NN.d..\"edddddddddd\"eedRd\"\"ddddddd\"\"RRddddRdd\"\"eeddd\"\"dlNsdd\"eedddddddd\"\"eedddddddd\"\"edRddRRdddRdd\"\"eedRdddddddNsddd\"\"edddddddd\"\"eeddd\"\"dlddddd\"edddddddddd\"eedddddddddNsddd\"eedddddddd\"\"eeddd\"\"dlddddd\"eeddddddddldRdd\"\"eedRdddNNNNNNNN5eeeee)))))eeeeee))))))))))))))))))))[[[[[[[[[[[[[[[[)))rrrreezzzXXXsfffffcc&&&&eeeeee)))))eeee))))))))))))))))))))eeeee~BBBB4555N....eedddddddd\"\"edRd\"\"dldddddd\"\"eeRddd\"dddddd\"\"edddd\"\"ddddddd\"\"edddddddd\"eedRd\"\"dldddddd\"\"eeddddddd\"eeddd\"\"dldddddd\"\"edddddddd\"\"eedddddddddRdd\"\"eeddddddddd\"\"eddddddNsdd\"\"eedddddddddddd\"\"eeddddddddd\"eedddd\"\"ddddddd\"\"RddddddNNNdddd\"\"eeddddddddd\"eeddd\"\"dldddd\"\"edRd\"\"dlNNNNNNNNNNeeeeeeeeeeee)))))[[[[[[[[[[[[[[[[[))))[[))))rrrreezzzXXXffffffcc&&&&feeeeeeee))))eeeeee)eekBBBB555NNN.dddddd\"\"eddddddd\"eedddddddd\"\"eddddddd\"\"eddddddddd\"eeddddddd\"eedddddddd\"eedddNNsdd\"\"eeddddddd\"\"edddddddd\"\"eeddddddddd\"eedddddd\"\"edddddddd\"\"eddddddd\"\"edddddddsddd\"eedddddd\"\"edddddddddd\"\"eddddddd\"\"edddddddd\"\"eddddddd\"\"eddddddddd\"eeddddddd\"eedddddddd\"eedddNsdd\"\"eddddddddd\"\"eeeddddddsddd\"eeddddddd\"\"eeddddddddK\"eedddddddd\"\"edddddddd\"edddddddsdd\"\"edddddddNNNNNNNNeeeeeeeeeeee)))))))))rrrezzzzXXXffffffcc&&&&eeeeeeee)))))eeeeeee)))eeeee))))eeeBBBBB455NNNNdNNNddddddd\"\"\"eeedddddddd\"\"eedddddddd\"\"edRdd\"\"dddRdd\"eedRd\"\"\"ddddsdd\"\"eddddddddldRdd\"\"eedRd\"\"\"dddddd\"\"eRRddRddddRdd\"eedRdddNNNNNNNNdddddddd\"\"eeddd\"\"dldddd\"\"eeddd\"\"dddddd\"\"eeddd\"\"ddddddd\"eedRd\"\"dlddRdd\"\"eddd\"\"dddddd\"\"edddd\"\"lddddd\"eedddd\"\"dddddd\"eeddddddNNNNNNNNeeeeeeeeee))))))))))rrrreezzzzXXXffffffc&&&&&eeeeeeee))))))ee))))))))eeeeee))))))))))))eeeeeee~~BBBBB4555N....eddddddddd\"\"eddd\"\"dlddd\"eddRd\"\"dlddd\"\"eeddd\"\"ddddddd\"eedddddddd\"\"edRd\"\"dlddd\"eedRdd\"\"ddddddddd\"\"eddd\"\"dlddddd\"\"eeddd\"\"dlddddddd\"\"eeddddddd\"\"eddd\"\"dlddd\"\"dddd\"\"dddddd\"edddddNsddd\"eedd\"\"\"ddddd\"edRRd\"\"dldRdd\"eeRRdd\"\"dddddd\"\"edddd\"\"dddddNNNNNNN5eeeeeeeeeeeeeee))))rrrrezzzXXXsfffffcc&&&&eeeee))))))))))))eeeeBBBBB455NNNddddddddd\"\"eedddddddd\"eeddd\"\"ddddddd\"\"RRddddddd\"\"eddddddddlddddd\"\"eedddddddd\"\"eddd\"\"dddddd\"\"lRdd\"\"dlddd\"\"eeddddddddNdddd\"\"eedddddd\"\"eeRRddddddd\"eedRdddddd\"eeRRdd\"\"ddddRdd\"\"eedddddddd\"eedRdddddd\"\"edRd\"\"dddRdd\"\"eeRRdddNNsdd\"\"eeeddddddd\"eeRdddddddd\"eedddddddd\"eeRRdd\"\"ddddRdd\"eedRd\"\"dldddd\"edRddddddd\"\"edRd\"\"dddRdd\"\"eeRRdddNNNNNNNNNeeeeeeeeee)))))))))eee)))))rrreezzzXXXsfffffcc&&&&eeeeeeee))))eeee)))))eeeeeeeeeeeee~BBBBB4555N.dddd.\"\"edddd\"\"eddddddsdd\"\"eeddddddd\"eeddd\"\"dldddd\"eddd\"\"dldddd\"eeddddddsdd\"\"eeddddddd\"\"\"eddddddddddddd\"eeRRd\"\"dldRdd\"eedddddddd\"\"edddddddd\"\"eddd\"\"dlddddd\"eeddddddddd\"eeddddddddddddddd\"\"eee\"dddddd\"edRddddNNsdd\"\"eeddddddddddddddd\"\"eeddddddd\"\"eddddddddd\"\"edddddddd\"eeddddddsddd\"eeddd\"\"dddddd\"eddddddNNNNddddddd\"\"ee\"dddddd\"\"eedddddddddd\"\"eddddddK\"eeddddddddd\"\"edddddddd\"\"eeddd\"\"dldddd\"edddddNNNNNNNN5eeeeeeeee)))))))))))))[[H)))rrreezzzXXXffffffcc&&&&eeeeeeee))))eeee)))))eeeeeeeeeeeee~BBBBB4555N.dddd.\"\"edddd\"\"eddddddsdd\"\"eeddddddd\"eeddd\"\"dldddd\"eddd\"\"dldddd\"eeddddddsdd\"\"eeddddddd\"\"\"eddddddddddddd\"eeRRd\"\"dldRdd\"eedddddddd\"\"edddddddd\"\"eddd\"\"dlddddd\"eeddddddddd\"eeddddddddddddddd\"\"eee\"dddddd\"edRddddNNsdd\"\"eeddddddddddddddd\"\"eeddddddd\"\"eddddddddd\"\"edddddddd\"eeddddddsddd\"eeddd\"\"dddddd\"eddddddNNNNddddddd\"\"ee\"dddddd\"\"eedddddddddd\"\"eddddddK\"eeddddddddd\"\"edddddddd\"\"eeddd\"\"dldddd\"edddddNNNNNNNN5eeeeeeee))))))eeee[[HH))rrrreezzzXXXffffffcc&&&&eeeeeeee)))))))eeeee~BBBBBB455NNNNdddddd\"\"eeddddddd\"eddRd\"\"dddddd\"\"edddddddddd\"eedRdd\"\"ddddddd\"eedddddddd\"\"edRd\"\"dldddd\"\"eddddddddddddd\"eedddddNNNddNddd\"\"eeddddddd\"eedddddddd\"\"edddddddd\"\"edRdd\"\"ddddddd\"eedddddddd\"eedddddddd\"\"edddddddddddd\"edddddNNNNNNNN5eeeeeeeeeeeeeeee[[[HH))rrrrezzzzXXXffffffcc&&&&feeeeeeeee)))ekBBBB555NNNNdddddd\"\"eeddddddd\"eedddd\"\"dddddddddddddddd\"\"eedd\"\"dldddd\"edddd\"\"dddddRdd\"\"edRdddRdd\"\"edddd\"\"dldddddddddddddd\"\"eedd\"\"dldddd\"eddddddNNNNNN\"ddddddd\"\"eedddddd\"ddd\"\"eddddddddddd\"\"\"eddddddddd\"eeddddddd\"eeddddddddddNsddd\"eedddd\"\"dldRdd\"\"eeddd\"\"dldRdd\"\"dddddNNNNNNNNeeeeeeeeeeeeeeee[[[[[[[HHH)rrrreezzzXXXffffffcc&&&&eeeeeeee)))))))))))eee~BBBBB455NNNNdddddd\"\"ee\"dddddd\"eeddd\"\"dldddd\"\"edRddddRddd\"eedRdd\"\"ddddddd\"\"edRdddddd\"\"eddd\"\"dldddd\"\"edRddddRddd\"eedddddddddddddd\"\"eeeddd\"dldddd\"edddd\"\"dldRdd\"\"eedddddRddd\"eedddddsdd\"\"eeddd\"\"dldddd\"edddd\"\"dldRdd\"\"eedddddRddd\"eedddddNNNNNNNNeeeeeeeeeeeeeee[[[[[[[[[[[[[[[[[[[[[[[[[[[[[[[[HH))))rrrrrrreezzzzzzXXXffffffcc&&&&eeeeeeeee)))))eeeee~BBBBB4555NNNNNdddddddddd\"\"eeeddddddd\"\"eRRd\"\"dldRdd\"edRdddddddd\"eedR\"\"\"\"ddddRdd\"\"edddddddd\"\"edRd\"\"dldRdd\"\"eRRd\"\"\"ddddddddd\"\"ed\"dddddddddd\"eeddddddddd\"eedddddddddddddddd\"\"eeddddddd\"\"eeddd\"\"dddddsdd\"\"edddddddd\"eeddd\"\"\"dddddd\"\"eeddddddddd\"eeddddddddddNNNNNNNNN5eeeeee))))))))e)))))))rrrrrezzzzzXXXffffffc&&&&&eeeeee)))))))))))))eeeeBBBBB555NNNNdddddddddd\"\"\"eeddddddddddsdd\"\"eedddddddlddsdd\"eeddddddddd\"eeRdd\"\"dlddddd\"eedddddddddddNsdd\"\"eeeddddd\"dddsdd\"eeddddddddd\"eedddd\"dldddd\"eeddddddddddNsdd\"\"eedddddddldddsdd\"\"edddddddd\"eeRdd\"\"dlddd\"eedddddddd\"\"eddddd\"dldddd\"\"eeddddddddddddd\"eeddddddd\"eeddddddddd\"\"edddddddd\"\"eedddddddd\"\"eedddddddd\"eeRRdddRddd\"eeddddddd\"\"eeddddddddd\"eeRdddddd\"eedddddddddR\"\"dddddddd\"\"eeddddddsdd\"\"eedddddd\"\"edddddddd\"eeddddd\"dldddd\"\"eedddddddddddd\"eedddddNNNNNNNNeeeeeeeeeeeeeeeee[[[[HH))rrrrezzzzXXXffffffcc&&&&feeeeeeee)))))eeeee~BBBBB4555NNN.dd\"eedddddddddddddddd\"\"eedddddddddddddddd\"\"eeddddddd\"eeddd\"\"dldddd\"edRRd\"\"\"dddddd\"eeddddddNNNNdddddd\"\"eeddddddd\"\"eeddddddddK\"eeddddddddK\"eeddddddddd\"\"eddddddddK\"eeddd\"\"dldddd\"\"eddddddddd\"eedddddNNNNNNNN5eeeeeeeeeeeeeeeeevvv[[[[[HHH))rrrreezzzzXXXffffffcc&&&&feeeeeee))))eeee))))))eeeeeeeeeeee~BBBBB4555N....\"eddddd\"\"eddddddddd\"\"eddd\"\"dldddd\"edddd\"\"eddddldsdd\"\"edddd\"\"dldsdd\"eedddddddd\"\"eddd\"\"\"ddddldsddd\"eedddd\"\"dddddd\"eddddddd\"\"dddddd\"eedddddddd\"eedddddddd\"\"eeddddddddsdd\"\"eddddddd\"eedddddddd\"eedddddddd\"\"eeeddddddlddsdd\"eedddNNNNNNNN5eeeeeeeeeee)))))eee[[[[HH)rrrreezzzXXXffffffcc&&&&eeeeeeeeeeee))))))))))))eeeeeeeeeee~BBBBB455NNNNNdNddd\"\"eedd\"\"dddddd\"\"edddd\"\"ldRdd\"eeddd\"\"dldddd\"eedRd\"\"ldNsdd\"\"edddddddd\"\"edddddddd\"eedRd\"\"dldddd\"edRddddNNNeNNNddd\"\"eeddddddd\"edRd\"\"dlddd\"eedRdddddddRdd\"eedddddddddddddddddd\"\"ed\"dddddddddddddddd\"\"eeddddddddddddddddd\"\"eeddddddddddddddddd\"\"eedd\"\"dldddd\"edddd\"\"RddddRdd\"eedddddNNNNNNNN5eeeeeeeeeeeeee)))))rrreezzzXXXffffffcc&&&&eeeeeee)))))eeBBBB455NNNNdddddd\"\"eeddddddd\"\"eedddddddddRdd\"eeddddddddd\"eedddd\"dddddsdd\"eedddddddd\"\"eedddddddddsdd\"eeddd\"\"dddddd\"eddddddNNNNNNNddd\"\"eeddddddd\"\"eedddddddd\"eedddddddd\"eeddddddddddddd\"eedddddddd\"\"eedddddddd\"eeddd\"\"dldddd\"eddddddNNNNNNNN5eeeeeeeeeeeeeeee[[[[[[[[HH))rrreezzz)XXffffffcc&&&&eeeeee)))))eeBBB5555N..NNNNdd\"\"\"eeddddddd\"edddd\"\"edddd\"\"edddd\"lddddldRdd\"\"eeddddddddddsdd\"\"edRdddddddRdd\"\"eeddd\"\"dddddd\"edddd\"\"\"dddddd\"eddddddNNNNNNNddddddd\"\"eedddddddd\"eedddddddddddd\"\"edddddddddd\"eedddddddd\"eedddddddddddNsdd\"\"eeeddddd\"dlddddd\"\"eeddddddddddddd\"eeRdd\"\"dddddd\"eedddddddd\"\"eddddddddK\"eedddddddddd\"eedddddddd\"eedddddddddddsdd\"\"eeddddddddddsdd\"\"edddddddddddddd\"eeddddNNNNNNNNeeeeeeeeeeeeeeeee[[[HHH)rrrreezzzXXXffffffcc&&&&eeeeeeee)))))))eeeee~BBBBBB455NNNNdddddd\"\"eeddddddd\"\"eedddddddd\"eeddddddddd\"eeddddddddddRdd\"\"edRdddddd\"eedddddddd\"\"eeddddddddddRdd\"eeRdddNNNddddddddddd\"\"\"eeddddddd\"eeddddddd\"\"eedddddddd\"\"eddd\"\"dlddddd\"eedddddddd\"eeddddddddd\"\"eddddddddddRdd\"eeRdddNNNNNNNN5eeeeeeeeeeeeeeeee[[HH))rrreezzzXXXffffffcc&&&&eeeeeeee))))))eeeee~BBBBB4555NNNdddddd\"\"ee\"dddddddddddddd\"\"ee\"dddddddddddddd\"\"ee\"ddddddddddddddddd\"\"ee\"ddddddNNNNNNN\"dd\"\"ee\"dddddd\"eedddddsdd\"\"eeddddddd\"\"eddddRddd\"eedddddddd\"\"eedd\"\"\"ddddddNNddd\"eedlddd\"\"eedddddddd\"\"eedddddddd\"\"edRddddddddddddddd\"\"ee\"dddddddddddddd\"\"eeddddddddddddddd\"\"eeddddddd\"eeddddNNNNNNNeeeeeeeeeeeeeeeee[[HH)rrrreezzzXXXffffffcc&&&&feeeeeeee)))))eeeee~BBBBB4555NNNddd\"eeddddddddd\"\"eedddddddd\"eeddddddddd\"eedddddddd\"eeddddNNNNNNNNed\"\"eedd\"\"dddddd\"edddd\"\"\"dddddd\"eeRdddddd\"eeddddddddddddddd\"\"eedldNNsddddddddddddddd\"\"\"ee\"ddddddddddddd\"\"eed\"\"\"dddddd\"dlRdd\"\"dlNNsdd\"eeedddddddddddddd\"\"eedddddddddddNNddd\"\"eeddddddddddddddddd\"\"eedd\"\"\"ddddd\"\"eddddRdd\"\"eddddddddddddddddd\"\"eeddddddddddddddd\"\"eed\"ddddddddddddd\"eeddlNNNNddd\"\"eddd\"\"edddddNNN|NNNN5eeeeeeeeeeeeeeeeee[[[[HHH)rrrreezzzzXXXffffffcc&&&&eeeeeeee))))eeee))))))eee)eeeeeeee~BBBBB4555NNNdddd\"\"eedddddddddddddddd\"\"eedddddddddddddddddd\"\"\"eeddddddd\"\"eddddddddd\"\"eeddd\"\"dddddddd\"\"dRddddNNNedd\"\"eedddddddd\"\"eddddddddd\"eedddddddd\"\"eddddddsdd\"\"edddddddd\"\"eeddddddddd\"\"eeedddddddddddddd\"\"eRddddNNNNNNNN5eeeeeeeeeeeeeee[[[[HH))rrrrezzzzXXXffffffcc&&&&eeeeeeeBBBBBe))))))))))eeeeeeeeBBBBBB4455NNNNdddddddddd\"\"eee\"dddddd\"eedddd\"\"dddddd\"eeRddddRdd\"\"eddddddd\"eeddddddsddd\"eedddddddd\"\"eddddddddd\"eeRdd\"\"ddddd\"\"edRddddRdd\"\"edddd\"\"ddddddd\"eedRdddddd\"eeddddddd\"eedddddddd\"\"eedddddddddddddddddd\"\"eeedddddddd\"eeddddddd\"eedddddddd\"eedddd\"\"dddddd\"eedddddddddRddd\"edddddddd\"eeddddddsddd\"eedddddddd\"\"eddddddddd\"eedRdd\"\"ddddd\"\"eedddddddd\"eedddd\"\"ddddddd\"eedddddddlddsddd\"eeddddddd\"eeddddddddd\"eedddddddddddddddddd\"\"eeeddddddd\"eedddddNNNNNNN5eeeeeeeeeeeeeeeee[[[[[[[HH))rrrreezzzXXXffffffcc&&&&eeeeee)))))))))eeeBBBB455NNNNdddddd\"\"eeddddddd\"\"eeRddddddd\"\"edRdd\"\"dddddd\"eedRdd\"\"dddddd\"\"eRRd\"\"dlddRdd\"\"eedRd\"\"dldddddNNNddd\"\"eeddddddd\"eedddd\"ddddddd\"eedddddddd\"\"edddd\"\"dldddd\"eedddddNsddd\"eedddddddd\"eedRd\"\"\"dddRdd\"eedRdd\"\"dddddd\"\"eRRd\"\"dldRdd\"\"eeRRd\"\"lddNNNNNNNNN5eeeeeeeeeeeeee[[[[[[[[HH)))))rrrrreezzzzzXXXsfffffcc&&&&eeeeeeeee)))))eeeee~BBBBB4555NNNddd\"eedddddddddddddddd\"\"eeddddddd\"edRdddddNNddddddddd\"\"eed\"ddddd\"eedddddddd\"\"eRRdddNNNNdd\"\"eedddddddddddddd\"\"eeddd\"\"dddddd\"edddd\"\"dldNsdd\"eedddddddd\"\"edddddddd\"\"eddddddddd\"\"edddddddNNNNNNNeeeeeeeeeee)))))))))))[[[[vvv[[[HH)rrrreezzz)XXsfffffcc&&&&eeeeeee))))eeBBBB5555N..NNNN\"dddddddd\"\"\"eeddddddd\"eeddddddd\"eedddd\"\"dldddd\"\"eddddddsdd\"\"edddddddd\"eeddddddddd\"eedRdd\"\"dldddd\"eddddddNNNNNdddddddd\"\"\"eeddddddd\"eedddddddd\"\"eedddddddd\"eedddddddd\"\"edddddddK\"eedddddddd\"\"eeddddddddK\"edddddddNNNNNNNNeeeeeeeeee)))))))eeeeee[[[[[[[HH))rrrrrezzzzXXXffffffcc&&&&feeeeeee))))))))))eeee~BBBBB455NNNNdddddd\"\"eeddddddd\"eeddddddd\"\"eddd\"\"dddddd\"\"edddddddddddsdd\"\"edddddddd\"\"eddddddd\"\"eddd\"\"dldddd\"\"edddd\"\"dddddddNNNNdd\"\"eeddddddd\"eedddddddd\"eedddddddd\"eeddddddddddddd\"eedddddddd\"\"edddddddd\"eeddd\"\"dldddd\"\"edddd\"\"ddddNNNNNNNN5eeeeeeeee)))))))e)))H)))rrrrezzzzXXXffffffc&&&&&eeeeee)))))))))eee~BBBB455NNN.dd\"eeddddd\"dldddd\"eddddddddd\"\"edddd\"\"dddddd\"eddddddddd\"eeddddddsdd\"\"edddddddd\"eedddd\"\"dddddd\"\"edddddddd\"eedddd\"\"dddddd\"eeddddddsdd\"\"edddd\"\"dldddd\"edRdd\"\"lddsdd\"eedddd\"\"dddddd\"eedddddddddddd\"\"eedRdddddlddRdd\"eeRddd\"dlNsdd\"eedddddddd\"\"edRdddddddRdd\"eedddddddd\"eeddddddddddd\"\"eeddddddsdd\"\"eeddddddd\"eedRd\"\"\"\"dddRdd\"eeRdd\"\"dldRd\"\"eedddddddd\"\"edRdd\"\"dddRdd\"eedRddddsdd\"\"eeddddddd\"eedddddddddddd\"eedddddddddddd\"\"eedRdddddddRdd\"eeddddNNNNNNNN5eeeeeeeeeeeeeeeeeee[[[H))rrrreezzzXXXsfffffcc&&&&eeeeeee))))))))))))))eeeeeeee~BBBBB4555N....eddddddddd\"\"eedddddddd\"\"dddddddd\"\"eedd\"\"dddddddsddd\"edddddddd\"\"eedddddd\"\"\"edddddddddd\"eeddddddddd\"eddddddddNNNNddd\"\"eeedddddddddddddddd\"\"eeedddddddK\"eedddddddd\"\"eedddddddd\"\"edddddddddddddd\"\"eeeddddddd\"\"eddddddddd\"\"edddddddNNddd\"\"eeddddddd\"\"eddddddddd\"\"edddddddd\"eedddddddd\"\"eedddddddd\"\"eddddddddd\"\"eddddddddNNNNNNNeeeeeeeeeeeeeee[[HH)))))rrrreezzzzzXXXffffffc&&&&&eeeeeeeeee))))))))))))))eeeeeeeee~BBBBB4555N....\"eddddddddd\"eedddddddd\"eedddddddd\"\"eedRdd\"\"ldRdd\"\"eedddddddd\"eedddddsddd\"eedddddddd\"eedddddNsddd\"\"ee\"dddddd\"eedddddddd\"\"eedddddddd\"\"eedRd\"\"dlNsdd\"\"eedddddddd\"\"edddddddd\"\"eedRd\"\"dddddddddd\"\"eeR\"\"\"dldddddd\"eeeddd\"\"ldNdNNNNNNNNeeeeeeeeeeeeeeee[))))rrrrezzzzXXXffffffcc&&&&eeeeeeeBBB555555.dddddddddd\"\"\"eedddddddd\"\"eedRdddddd\"eedRdddddd\"\"edRdddddsddd\"\"eeddddddd\"\"eedRddddddd\"\"eeddddddddd\"\"edRddddNNdddddddd\"\"eedddddddldsdd\"\"eeddddddddd\"\"eddddddddddsdd\"\"eeddd\"\"dldsddd\"\"eddddddddldsdd\"\"eedddddddd\"\"edddddddddd\"\"edRddddNNNNNNNN5eeeeeeeeeeeeeee[[[[HH)rrrreezzzXXXsfffffcc&&&&eeeeeeee))))))))))))))))eeeeeeBBBBBB455NNNNdNNNddddddd\"\"\"eedddd\"\"dddddd\"\"eRRdd\"\"dddRdd\"eedddddddd\"\"edRd\"\"\"ddddddd\"eedRdd\"\"dddddd\"eeRRdd\"RdddRdd\"eedRdd\"\"dddddd\"edRdddNNNNNNNNNNddd\"\"eeedddddddd\"eedddddd\"\"lRdd\"\"edRddddsddd\"eeddddd\"dldddddd\"eedddddddd\"\"eedddddd\"\"lRdd\"\"edRRd\"\"lddddd\"\"edRddddNNNNNNNNNNNeddddddddd\"\"eeddddddd\"eedddddddd\"eeddddddd\"\"eeddddddd\"\"dRRd\"dlRddldNsdd\"\"eedddd\"\"dldRdd\"\"eddddddddd\"\"dRddddNNNNNNNNeeeeeeeeeeeeeeee[[[[[[[[[HH))))rrrrreezzzzXXXffffffcc&&&&feeeeeeee)))))eeeee~BBBBB4555NNNNNddddddddddddd\"\"\"eedddddddddddddd\"\"eeedddddddd\"\"eeddddddddddddd\"\"eedddddddddddddd\"\"eeeddddddddddddddd\"\"eddddddsddddd\"\"eeddddd\"dddddNNNNedd\"\"ee\"dddddddddddddddddddd\"\"eeddd\"\"dldddd\"\"eddddd\"\"ddddsdd\"eeddddddddddddddddd\"\"eeddd\"\"dldddddddd\"\"eddd\"\"ddddddddd\"\"eeddd\"\"dddddN|NNNNN5eeeeeeeeeeeeee[HH))rrreezzzXXXffffffcc&&&&eeeeeeeee)))))eeeee~BBBBB4555NNNNddd\"eedddddddd\"eeddd\"\"\"dddddd\"eeRddddddd\"\"eeddddddsdd\"\"edddddddd\"eedddddddd\"\"eeddddddddd\"eedddddNNNedd\"\"eeddddddd\"\"eddd\"\"lddsdddddNddd\"\"eeddddddsdd\"\"edddddddd\"eedddd\"\"dldddd\"eeRRd\"\"\"dddddd\"eeRdddNNNNNNNN5eeeeeeeeeeeee))))))rrrrezzzzXXXffffffc&&&&&eeeeeee)))))eeBBBB455NNN.dd\"eeeddddddd\"eedddd\"\"dddddd\"eedddddddd\"\"eeddddddsdd\"\"edddddddd\"eedddd\"\"dddddd\"eedddddddddddd\"eeddddddsNddd\"\"eedddddldddd\"eeRddddRdd\"\"eeRddddddd\"eedR\"\"R\"ddddRdd\"\"edRd\"\"dldRdd\"eeRRdd\"\"dddRdd\"eedRdd\"\"dddddd\"eeddddddNNNNNNNNeeeeeeeeeeeeeee)))))))))))rrrrreezzzzXXXffffffc&&&&&eeeeee)))))eeBBBB455NNNNdNNNN\"\"\"dddd\"\"dd\"\"\"eedddddddd\"eedddddddd\"eedddd\"dldddd\"\"eddddddNsddd\"eeddddddd\"\"eddddddddd\"\"eeddddddddddd\"\"eddd\"\"dlddddd\"\"edddddddddNNNdddddddd\"\"\"eedddddddd\"\"edddddddd\"eeddddddsdd\"\"eedddddddd\"eedddddddd\"eedddddddd\"\"eedddddddd\"eedddddNNNNNNN5eeeeeeeeeeee))))))))))eee[[[HH))rrrrezzz)XXffffffcc&&&&eeeeee)))))eeBBBB455NNNNdddddd\"\"eeddddddd\"eedddddddd\"\"eedddddddd\"eedRdd\"\"ddddsdd\"eedddddddd\"\"eedddddddd\"\"eedddddddd\"eedddddddddddddd\"\"eeddddddd\"\"eedddddddddddd\"eedddddddd\"\"eeddddddddddddd\"eedddddddd\"\"eedddddddddddd\"eedddd\"\"dddddd\"eeddddddNNNNNNN5eeeeeeeeeeeeeee[[HHH))rrrrrreeezzzzzXXXffffffcc&&&&eeeeee))))))))eeeeeeeeeBBBBB4555NN.d.\"\"eddddddddd\"\"eeddddddddd\"\"edddddddd\"\"eedddddddddsddd\"eeddd\"\"ddddddd\"\"\"dddddd\"dddddd\"\"eeddddddddd\"eeddddddddddsdddd\"edddddddd\"\"eedddddddddddd\"\"eeddddddddK\"eedddddsddd\"eedddddddd\"eedddddddd\"\"eeddddddddK\"eedddddddddNNNNNNNNN5eeeeeeeeeeeee))))))))rrrrezzzzXXXffffffc&&&&&eeeeeeeBBB555555.dddddddddd\"\"\"eedddddddd\"eeddddddddd\"eedddddddd\"eedddddddsddd\"eedddddddd\"\"edddddddd\"\"eeeddddddddddd\"\"dddddd\"\"\"eeeddddddNN||NNNNddd\"\"eeddddddd\"\"eddddddddd\"\"eeeddddddsdd\"\"edddddsddd\"eedddddddd\"\"edddddddd\"\"eeeddddddddd\"\"dddRdd\"\"\"eeeddddddNNN|NNNN5eeeeeeeeeeeeeeeeee[[[H))rrrreezzzXXXffffffcc&&&&eeeeeeeee)))))eeeee~BBBBB4555N.dd.\"eddddddddddddddd\"\"\"eeddddddddddddddd\"\"eeddddddddddddddd\"\"eeddddddd\"\"eedRddNNNsddd\"\"eeddddddK\"eeddddddddK\"eedddddddd\"eeddddddddd\"eeddddddsdd\"eedddddddd\"\"eeddddddddK\"eeddddddd\"\"eedddddddd\"eeddddddddK\"eeddddddddd\"\"edddddddd\"eedddddddd\"\"eedddddddd\"\"edddddRddd\"eedRdddNNNNNNNN5eeeeeeeee))))))ee[[[HH))rrreezzzXXXffffffcc&&&&eeeeee)))))eeeee)))))))))eeeBBBBB555NNNNddNNNddd\"\"eeddddddd\"eeddd\"\"lddRdd\"eedRdddRddd\"eedddd\"\"ddddddd\"eedddddddd\"eeddd\"\"dddRdd\"eeddd\"\"dldddd\"\"edRd\"\"dlddddddNNN\"dd\"\"eeddddddd\"eddddddddd\"\"edddddddd\"\"eedddddNsdd\"\"eeddddddd\"eeddd\"\"dldddd\"edddd\"\"dldddd\"\"edRd\"\"dlddddd\"eedddddddd\"eedddddddd\"\"eddddddddd\"eeddddddsdd\"\"eedd\"\"dddddd\"edddd\"\"dldddd\"edddd\"\"dldddd\"\"edRd\"\"dldddNNNNNNN5eeeeeeeeeeeee))))))rrrrezzzzXXXffffffc&&&&&eeeeee)))eeeeeeee)eeeeBBBBB455NNNNdddddd\"\"eeddddddd\"eeddd\"\"dddddd\"eeddddddddd\"eeddddddddddsdd\"\"ed\"dddddd\"eeddd\"\"dldddd\"eedddd\"ddddddd\"eedddddNNNNNNNddd\"\"eedd\"\"dddddd\"\"dddd\"\"dddddd\"eeddddddddd\"eeddddddldNsdd\"\"eddd\"\"dddddd\"edddd\"\"dddddd\"eedddd\"ddddddd\"eedddddNNNNNNNN5eeeeeeeeeeeeeee))))))rrrrreezzzzzXXsffffffc&&&&&eeeeeeeBBB555555..N.d\"\"\"eeddddddd\"eedddddddd\"eedddddddddldsdd\"\"eedd\"\"ddddddddsdd\"eedddddddd\"\"edddddddd\"\"eedddddddddddd\"edddddNNNNNNNNNNddddddddd\"\"eedddddddd\"eedddd\"\"dldddd\"eeddddddddd\"eedddddddddsdd\"\"eedddddddddsddd\"eeddddddd\"\"eedddddddddddd\"eeddddNNNNNNNN5eeeeeeeeeeeeeeeee[[[[[HHH))rrrrezzzzXXXffffffcc&&&&feeeeeeee)))))eeeee~BBBBB4555NNdddd\"\"eedddddddddddddddddd\"\"eedddddddddddddddddd\"\"eeddddddd\"\"eddddddddddd\"\"eedddddddd\"\"\"ddddddddddd\"\"ee\"dddddddddddddddd\"\"eedddddddddddddddddd\"\"eeddddddddK\"dddddddddddd\"\"eedddddddd\"\"edddddddd\"eedddddddddddddddddd\"\"eeddddddddd\"ddddddddddd\"\"eedddddddK\"dldddddddddd\"\"eedddddddd\"\"\"ddddddddddd\"\"ee\"dddddddddddddddd\"\"eedddddddddddddddddd\"\"eeddddddddK\"dddddddddddd\"\"eedddddddd\"\"elddNNNNNNN5eeeeeeeeeeeeeeee[[[HHHH))rrrreezzzzXXXffffffcc&&&&eeeeeeeee)))))eeeee~BBBBB4555NNNNddd\"eeedd\"\"dldddd\"eeRddddddd\"\"eedddddddd\"eeddd\"\"dlddddd\"eedRd\"\"dldRdd\"eedddddddd\"\"eedddddddd\"eeddddddsddd\"\"edddddddddddddddd\"\"eeddddddddddddddddd\"\"eeddddddddddddddd\"\"eedddddddd\"eedddddNNNNNNNNeeeeeeeeeeeeeeeeee[[[HH))rrreezzzXXXffffffcc&&&&feeeeeeee)))))eeeee~BBBBB4555NNN.dd\"eedddd\"dldddd\"edddd\"\"dddddd\"edRRd\"\"eldRdd\"\"edddd\"\"ddddddd\"eeddd\"\"dldddd\"edddd\"\"ddddddd\"\"eRRd\"\"dldRdd\"edddd\"\"dlddddsdd\"\"eeddddddddddddddd\"\"eedddddddddddddddd\"\"eeddddddd\"eedddddddldsdd\"\"eeddd\"\"dldddd\"eeddd\"\"dldddNNNNNNN5eeeeeeeeeeeeeee[[[HH))rrrreezzzzXXXffffffcc&&&&feeeeeeee))))))))eeeeeeeeeee~BBBBB4555NNNNdddddd\"\"ed\"dddddddddddd\"\"\"eedd\"\"dldRddd\"eedRd\"\"\"ddddsdd\"eedddddddddddddd\"\"\"eedd\"\"dldRdd\"\"edRRd\"\"ldddsdd\"\"edRdd\"\"\"dddd\"\"eddddddddd\"\"edRd\"\"dldRdd\"\"edddd\"\"\"ddddsdd\"\"edRddd\"dldddd\"eedddddddd\"\"edRd\"\"dldRdd\"\"edddd\"\"ldddsdd\"\"edRd\"\"dldRdd\"eeddddddddd\"eeddd\"\"dldddd\"\"edRdddsdd\"\"eeRd\"\"dldddd\"eeRddddNsddd\"eeeddddddd\"\"edddd\"\"ldNNNNNNNNNN5eeeeeeeeeee))))eee[[HH))rrrreezzzXXXsfffffcc&&&&eeeeeeeeee))))))))))))))eeeeeeeee~BBBBB4555N....eddddddddddddddd\"eeddddddd\"\"edRdd\"ddddddd\"eedRddddddddddddddd\"\"eedddddddddddddd\"\"ee\"ddddd\"\"eedRdddddddRdd\"eeddddNsdd\"\"eddd\"\"\"lddd\"eedRddddddRdd\"eedRdddddd\"\"edRddddRdd\"eeRdd\"\"dlddd\"eedRddddddNsddd\"eeddddddddddRdd\"eeddddNNNNNNNN5eeeeeeeeeeeeeeee))))rrrrezzzzXXXsfffffcc&&&&eeeeeee))))))))))))))eeeeeeee~BBBBB4555N....eddddd\"\"dlddddd\"eeddddddddddd\"\"eeddd\"\"ddddddd\"edddd\"\"dldddd\"\"eedddddddNsddd\"eedddd\"\"edddddddddddd\"\"eeddd\"\"dlddddd\"eddddddsdd\"\"edddd\"\"dldRdd\"\"eedRdd\"ddddddd\"\"eddNRdd\"eedddddddddddddddd\"\"eedddddddddddddddd\"\"eeddddddd\"\"eddddddsdd\"\"eddddddddd\"\"eeddddddsdd\"\"edddddddddddddddd\"\"eeddddddd\"eedd\"\"\"ddddddNsddd\"eedddddddd\"eedddd\"\"ddddddd\"\"eddddNNNNNNNeeeeeeeeeeeeeee[[[[[HH[[[[[[[[HH))rrrrezzz)XXsfffffcc&&&&eeeeeeeeBBeeeeeeee)))))))))))ee~BBBB455NNNNdNNdddd\"\"\"eeddd\"\"dldRdd\"eedRd\"\"\"dddRdd\"eedRd\"\"dldddd\"eddddddsdd\"\"eeddd\"\"dddddd\"edRddddRdd\"\"eedd\"\"dddddd\"edddddNNNNNNNNNddd\"\"eeeddddddd\"\"eeddddddddd\"eedddd\"\"dddddd\"eeddd\"\"dddddsdd\"\"edRd\"\"dldRdd\"\"edddd\"\"ddddRdd\"eedRd\"\"\"dddddd\"edRdddNNNNNNNNNNNNeeecd\"\"eeeddddddd\"\"eddddddddd\"\"eeddddddddddddd\"eeddddddsddd\"eeddd\"\"ddddddd\"\"ddddd\"ddddddd\"\"eeddddddddddddd\"\"dddddNNNeddddNddd\"\"eeeddddddd\"eeddddddddd\"eedddddddd\"\"eeddddddNsddd\"\"eedddd\"dddddd\"eedddddddddddddddd\"\"eeddddddddd\"eeddddNNNNNNNN5eeeeeeeeeeeeeee[[[[[[[[[[[[[HH)))rrrreezzzXXXffffffcc&&&&eeeeee)))))eeBBBB455NNNNdddddd\"\"\"eeddddddd\"eedddRdd\"eeddddddd\"\"eeddddddldddd\"\"eeRdddddsddd\"eedddddd\"\"eeddddddsdd\"\"eeddd\"\"dddddddd\"eeddddNNNddddd\"\"eedddddd\"\"eddddddd\"\"edddddddd\"\"eeddddddsddd\"eedddddddd\"\"\"eeddddddd\"\"dRddldddd\"eeRdddddsdd\"\"eeddd\"\"dddddddd\"eeddddNNNNNNNN5eeeeeeeeeeeeeeee[[[[[[[[[[[[HH)))rrrrezzzzXXXffffffcc&&&&feeeeeee))))))))eeeeeeee))eeee~BBBBB455NNNNdNNNddd\"\"\"eeddddddd\"eddddRdd\"eeddddddd\"\"eedddddddddddd\"\"eedddddddd\"\"eeddddsddd\"eeddddddddddd\"\"edddddddd\"\"eeddddddddddNNNdddddd\"\"eeddlddd\"\"eddddddd\"\"edddddddd\"eeddddddddddddd\"\"eedddddddd\"eedddddd\"\"edddddddd\"eedddd\"\"ddddddddddd\"\"eeddlddd\"\"eddddddd\"\"eddddddsdd\"\"eddddddddddddd\"\"eedddddddd\"\"edRddd\"dlddd\"\"eedddddddd\"eedddddNNNNNNNN5eeeeeeee)))))))))))eeee[[[[HH)rrrreezzzXXXffffffcc&&&&feeeeeeee)))))eeeee~BBBBB4555NNddddd\"\"eeeddddddddddNNNdddddddd\"\"eedddddddd\"\"edddddddddddNNddd\"\"eed\"dddddd\"\"eedddddddd\"\"eeddddddddddsddd\"eedddddddNdddddddddddddd\"\"eeedddddddddNNdddd\"eedddddddldRdd\"\"eedddddddddNNNddd\"\"ee\"dddddRdd\"\"eeddddddddd\"\"edddddddddK\"eeddddddddddsddd\"eeddddddNNNNNNNNeeeeeeeeeeeeeeee[[[)))))))))))rrrrezzzzXXXffffffcc&&&&feeeeee))))))))))))))))eeeeeee~BBBBBB455NNNNdNNNNddd\"\"eeddddddd\"\"eddddddsddd\"eedddd\"\"dddddd\"eddddddsdd\"\"eeddddddd\"\"edddddddddd\"eedddd\"\"dddddd\"edRdddNNNNNNNNNNddd\"\"eeddddddd\"eeddddddd\"eedddd\"\"dldddd\"edddddddd\"\"edddddddd\"eedddddddd\"\"eedddddddd\"eddddddNNNNNNNNNddd\"\"eeddddddd\"\"edRddddRdd\"\"eeddd\"\"dldddd\"eddddddsdd\"\"eeddddddd\"\"eeddddddddd\"eedddd\"\"dddddd\"edRdddNNNNNNNN5eeeeeeeeeeeeeeeee[[[HH))rrrreezzzXXXffffffcc&&&&feeeeeeee)))))eeeee~BBBBB4555NNN.dd\"eedd\"\"dddddd\"edddd\"\"dddddd\"edRdd\"dldRdd\"eeddd\"\"ddddddd\"\"eRd\"\"dddddd\"eedddddddd\"\"edRd\"\"dldddd\"\"edddd\"\"lddddNsddd\"\"eeddddddddddddddd\"\"eeeddddddldddd\"\"eeddd\"\"dldddddddddNdddd\"\"eeddddddldddd\"\"eeddd\"\"dldddddddd\"\"edddddddddd\"\"eedddd\"dldddNNNNNNN5eeeeeeeeeee)))))))))))))rrrrezzzzXXXffffffcc&&&&eeeeeeeeeeeee)))))eeeeeee~~~BBBBeeee)))eeBBBBBB545....5dddddddddddddddd\"\"eeddddddd\"\"eRRd\"\"\"ddddsdd\"\"eedddddddddddddddddddddd\"\"eeed\"\"ddddddNN|ddd\"eeeddddddddddddddd\"\"eeddddddd\"\"eRddddNNNNeddddddd\"\"eedddd\"dldddddddddd\"\"eee\"\"ddddddNNsddd\"eeeddddddd\"\"eedddddddd\"eedddddddd\"\"edRddddsddd\"eeeddddddd\"\"eedddddddddddddd\"\"eed\"\"ddddddNNsddd\"eeedddd\"dddddd\"eeddddddsdd\"\"edddddddd\"\"eeddd\"\"dddddddd\"\"edddddddd\"\"eedddddddddddddd\"\"eed\"\"ddddddNNN|NNNNN5eeeeeeeeee)))))rrrrezzzzXXXffffffcc&&&&eeeeeeeeeee)))))eeeeeeeeeeeeeBBBBBB455NNNNddNNddddddd\"d\"\"\"\"eed\"dd\"\"dddRdd\"edRdddddd\"eedddddddd\"eeddddddd\"eeddddddsdd\"\"edddd\"\"dldddd\"\"eedRdd\"ddddRdd\"eedddddNNNdddddddddd\"\"eedddddddd\"\"eedddddddd\"\"eedddddddd\"eeddddddd\"eedddd\"\"ddddddd\"eedRdd\"\"dldRdd\"\"eedRddddlddRdd\"eeddddNNNNNNNN5eeeeeeeeeeeeeeee[[[HH))rrrrezzzzXXXffffffcc&&&&feeeeeeee)))))eeeee~BBBBB4555NNNddd\"eeddddddddddd\"\"eeddddddd\"\"eRRd\"\"\"dldRdd\"eeRdd\"\"dldddd\"eedddddNsdd\"\"eeddddddd\"\"eeddddddddd\"eedRddddRdd\"\"eddddddddddd\"eeedddddRdd\"\"edRd\"\"\"dldRdd\"edRdd\"\"dldRdd\"eedddddsdd\"\"edddddddd\"\"eedddddddd\"eeddddddNsdd\"\"eedd\"\"dddddd\"\"dddddddddd\"eeddd\"\"dldddd\"\"edRddddRdd\"\"eddd\"\"ddddddd\"eeddddddddldRdd\"\"eedddddddd\"eeddddddd\"eeddd\"\"dldddd\"edddddddddd\"eeddd\"\"dlddddd\"\"eeddddddd\"\"edRd\"\"dldRddd\"\"eedRdd\"\"dddddd\"eedddddddddRdd\"eeRdddNNNNNNNNNeeeeeeeeeeeeeeeeeevvvN[HH)rrrreezzz)XXsfffffcc&&&&feeeeeeee)))))eeeee~BBBBB4555NNNddd\"eeddd\"\"dldddd\"eeddddddddd\"eedddddddd\"\"eeddddddddddddd\"\"edRd\"\"dldRdd\"eedddddddd\"\"eddd\"\"dddddd\"\"edddd\"\"lddNNNsdd\"\"eeddd\"dddddd\"\"eddddd\"ddddddd\"\"eedddddddddddd\"\"edddd\"\"dddddd\"eeddd\"\"dldddddd\"eeddddd\"dldddddd\"eedddddddddddd\"\"eddddddddd\"\"edRd\"\"dldRdd\"eeddddddddd\"eeddddddsddd\"eedddd\"ddddddd\"eeRRd\"\"lddsdd\"eedddddddd\"\"eddd\"\"dldddd\"\"edddd\"\"ldNNNNNNNNNN5eeeeeeeeeeeeeee[[[HH)))rrezzz))))))))rrrrezzzzXXXffffffc&&&&&eeeeee))))))))))))))eeeeeeeeeeee~~BBBBBB4555NNNddddddd\"\"eeedddddddddddddd\"\"eedddddddddddddddddd\"\"ee\"dddddd\"eedddd\"dldddd\"eedRd\"\"ddddddd\"eeRRdddNNsddddddd\"\"\"eedddddddd\"edRdddRdd\"\"eedddddddd\"eedddNsdd\"\"eeddddddd\"edRdd\"\"dlRdd\"eedddddddddddd\"eddddddddddddNddd\"\"eeddddddddddddddd\"\"eedddddddddddddddddd\"\"eeddddddd\"eedddK\"dldddd\"eedddd\"ddddddd\"eddddddNNNNNNNN5eeeeeeeeeeeeeee[[[[[HH))rrrreezzzXXXffffffcc&&&&eeeeeeeeeeeee))))ekBBBBBBN555eeeeeBBBB55555N..ddddddddddddddddddddddddddddddddddddddddddddddddddddddddddddddNeeeeeeeeeeeeeeeeeeeeeeeKKKddddd\"\"ddddddddddddeedddddddddddddddddd\"dlldNNeddddddeeeeeeeeeeeKKKdddddddd\"\"dldddddddddddddddddddddddddddddddddNeeeeeeeeeeeee))))))))))))))[[)H))))rrrreezzzzXXXsffffcc&&&&&eeeeeeeeeeeee))))ekBBBBBBNN55NNN.d.\"eeddddddddddddd\"eeRdddddddsdd\"\"edddddddddldsdd\"eedddd\"\"ddddddd\"eeRdddddddddRdd\"\"RRdddddddsdd\"\"edddddddddldRdd\"\"eedRd\"\"dldNsdd\"eedddd\"dddddd\"\"edddd\"\"dddddd\"\"edddddddddddddd\"\"eeddddddddddsdd\"\"edddddddddldsdd\"\"eedddddddd\"\"edddddldddldRdd\"\"eedRd\"\"llNNNNNNNNNN5eeeeeeeeeeeeeeee[[[[[[[HH))))rrrrrrreeezzzzzXXXffffffcc&&&&eeeeeeeeeeeee))))ekBBBBB555eeeeeeeeBBBBBB555NBNeeBB..eddddddd\"eedddddddd\"eedddd\"dldddd\"edddd\"\"dlddddd\"\"eedddddddddddd\"edddddddd\"eedddd\"dddddd\"edddd\"\"ldNNNNNNddd\"\"e\"dddddd\"eedddddddd\"eedddd\"dldddd\"edddd\"\"dldddd\"eddddddsdd\"\"eeddddddK\"eedddd\"dldddd\"eeddd\"\"ldRdd\"edddddddd\"eedddddddd\"eedddd\"dlddddd\"eeddd\"\"dlddddd\"\"\"dddddddd\"\"edddddddd\"eedddd\"dldddd\"eeddd\"\"ldNssddNNNdd\"\"eeddddddd\"eedddddddd\"eedddd\"dldddd\"edddd\"\"dlddddd\"\"eedddddddddsddd\"eeddddddd\"eedddd\"dldddd\"edddd\"\"ldNNNNddddd\"\"ed\"dddddd\"\"edddddddd\"eedddd\"dldddd\"eeddd\"\"dlddddd\"eedddddddd\"\"edddddddd\"eeddd\"\"dldddd\"eeddd\"\"ldNsdd\"eedddddddd\"\"edddddddd\"eedddd\"dldddd\"eeddd\"\"dldddddd\"\"\"edddddddd\"\"edddddddd\"eedddd\"dldddd\"edddd\"\"ldddNNNNNNNN5eeeeeeeeee))))))))eeee[[[[[HHH)rrrreezzzXXXffffffcc&&&&feeeeeeee)))))eeeee~BBBBB4555NNNNNdddd\"\"eedddddddd\"\"eeddd\"\"\"dldRdd\"\"eedRdd\"\"dddRdd\"\"edRddddddldRdd\"\"eeddddddNNNdddddddd\"\"eeeddddddddd\"\"dRdd\"\"dlddddd\"\"edddddddRddd\"eeddd\"\"\"dldddddd\"\"edRdd\"\"dlddsddd\"eedddddddd\"\"eedddddddddddddddd\"\"eeedddddddd\"eddddddNddd\"\"eedddddddddddddddd\"\"ddddddddd\"\"eeedddddddddddRddd\"\"edRddddddldRdd\"\"eeddddNsddd\"eedddddddddddddddd\"\"eedddddddddd\"\"ddddddddd\"\"eedddddddddddddddd\"\"dddddddddd\"\"\"eeedddddddddddsdddd\"\"edRdd\"\"dldRddd\"edRdddRddd\"eeddddddddddddddd\"\"eeddddddddd\"\"dddddNNNNNNNN5eeeeeeeeeeeeeeeeee[[[[[[[[[[[[H))))))rrrreezzzzXXXffffffcc&&&&eeeeeeeee)))))eeeee~BBBBB4555N...\"edddddddd\"\"edddddddd\"eeddddddddddddddd\"\"eedddddddddddddddd\"\"eeddddddd\"eeddddddd\"eeddddddd\"\"edddddddd\"eeddddddNNdddddddd\"\"eeddddddddddddddd\"\"eeddddddd\"eddddNNsddd\"eedddddddddddddddd\"\"eedddddddddddddddd\"\"eedddddddddddddddd\"\"eedddddddd\"\"eeddddd\n"
     ]
    }
   ],
   "source": [
    "text_predictions = decoder(predictions, num_to_char)\n",
    "print(text_predictions)"
   ]
  },
  {
   "cell_type": "code",
   "execution_count": null,
   "metadata": {},
   "outputs": [],
   "source": []
  }
 ],
 "metadata": {
  "kernelspec": {
   "display_name": "Python 3",
   "language": "python",
   "name": "python3"
  },
  "language_info": {
   "codemirror_mode": {
    "name": "ipython",
    "version": 3
   },
   "file_extension": ".py",
   "mimetype": "text/x-python",
   "name": "python",
   "nbconvert_exporter": "python",
   "pygments_lexer": "ipython3",
   "version": "3.7.4"
  }
 },
 "nbformat": 4,
 "nbformat_minor": 2
}
