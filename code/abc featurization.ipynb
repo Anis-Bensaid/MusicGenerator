{
 "cells": [
  {
   "cell_type": "code",
   "execution_count": 5,
   "metadata": {},
   "outputs": [
    {
     "name": "stderr",
     "output_type": "stream",
     "text": [
      "Using TensorFlow backend.\n"
     ]
    }
   ],
   "source": [
    "import pandas as pd\n",
    "import numpy as np\n",
    "import pretty_midi\n",
    "import music21\n",
    "import re\n",
    "from random import sample\n",
    "from keras.utils import to_categorical"
   ]
  },
  {
   "cell_type": "code",
   "execution_count": 6,
   "metadata": {},
   "outputs": [],
   "source": [
    "import os\n",
    "os.chdir(\"/Users/desireewaugh/Desktop/MIT/Courses/6.883 - Modeling with ML/Projects/Final Project/MusicGenerator/data\")"
   ]
  },
  {
   "cell_type": "markdown",
   "metadata": {},
   "source": [
    "### Read text data"
   ]
  },
  {
   "cell_type": "code",
   "execution_count": 7,
   "metadata": {},
   "outputs": [],
   "source": [
    "with open(\"Jigs.txt\") as my_file:\n",
    "    abc_text = my_file.read()"
   ]
  },
  {
   "cell_type": "code",
   "execution_count": 13,
   "metadata": {},
   "outputs": [],
   "source": [
    "# Create vocab dictionaries\n",
    "def create_dictionaries(text_data):\n",
    "    char_list = list(text_data)\n",
    "    vocab = list(set(char_list))\n",
    "    \n",
    "    # Dictionary with character to integer\n",
    "    vocab_dict = {i: j for i,j in enumerate(char_list)}\n",
    "    \n",
    "    # Dictionary with integer to character\n",
    "    vocab_dict_rev = {j: i for i,j in enumerate(char_list)}\n",
    "        \n",
    "    return vocab_dict, vocab_dict_rev"
   ]
  },
  {
   "cell_type": "code",
   "execution_count": 19,
   "metadata": {},
   "outputs": [],
   "source": [
    "num_to_char, char_to_num = create_dictionaries(abc_text)"
   ]
  },
  {
   "cell_type": "markdown",
   "metadata": {},
   "source": [
    "### Encoder & Decoder functions"
   ]
  },
  {
   "cell_type": "code",
   "execution_count": 24,
   "metadata": {},
   "outputs": [],
   "source": [
    "def encoder(text_data, dictionary):\n",
    "    character_nums = list(text_data)\n",
    "    \n",
    "    for i in range(len(character_nums)):\n",
    "        character_nums[i] = dictionary[character_nums[i]]\n",
    "        \n",
    "    return character_nums"
   ]
  },
  {
   "cell_type": "code",
   "execution_count": 27,
   "metadata": {},
   "outputs": [],
   "source": [
    "text_nums = encoder(abc_text, char_to_num)"
   ]
  },
  {
   "cell_type": "code",
   "execution_count": 29,
   "metadata": {},
   "outputs": [],
   "source": [
    "def decoder(numeric_data, dictionary):\n",
    "    text_list = []\n",
    "    \n",
    "    for i in range(len(numeric_data)):\n",
    "        text_list.append(dictionary[numeric_data[i]])\n",
    "    \n",
    "    return \"\".join(text_list)\n",
    "        "
   ]
  },
  {
   "cell_type": "code",
   "execution_count": 30,
   "metadata": {},
   "outputs": [
    {
     "data": {
      "text/plain": [
       "True"
      ]
     },
     "execution_count": 30,
     "metadata": {},
     "output_type": "execute_result"
    }
   ],
   "source": [
    "decoded_text = decoder(text_nums, num_to_char)\n",
    "\n",
    "# Check to make sure decoder works:\n",
    "abc_text == decoded_text"
   ]
  },
  {
   "cell_type": "code",
   "execution_count": 64,
   "metadata": {},
   "outputs": [],
   "source": [
    "def create_training(char_nums, num_samples, str_length):\n",
    "    # Get starting indices of the random samples for your training batch\n",
    "    start_indices = sample(char_nums[0:(len(char_nums)-str_length-1)], num_samples)\n",
    "    \n",
    "    # The x_values begin at the starting indices and are str_length characters long\n",
    "    # The y_values begin one character into the x_values and end one character longer than x_values\n",
    "    x_data = np.array(char_nums[0:str_length])\n",
    "    y_data = np.array(char_nums[1:str_length+1])\n",
    "    for i in range(1,num_samples):\n",
    "        x_data = np.vstack((x_data, np.array(char_nums[i:i+str_length])))\n",
    "        y_data = np.vstack((y_data, np.array(char_nums[i+1:i+str_length+1])))\n",
    "    \n",
    "    #return x_data, y_data\n",
    "    return x_data, y_data"
   ]
  },
  {
   "cell_type": "code",
   "execution_count": 65,
   "metadata": {},
   "outputs": [
    {
     "data": {
      "text/plain": [
       "((10, 20), (10, 20))"
      ]
     },
     "execution_count": 65,
     "metadata": {},
     "output_type": "execute_result"
    }
   ],
   "source": [
    "x, y = create_training(text_nums, 10, 20)\n",
    "x.shape, y.shape"
   ]
  },
  {
   "cell_type": "code",
   "execution_count": 66,
   "metadata": {},
   "outputs": [
    {
     "data": {
      "text/plain": [
       "array([[   168, 135549, 135274, 135256, 135515, 130943, 135549, 135387,\n",
       "        135242, 135260, 135278, 135549, 135387, 135242, 135260, 135278,\n",
       "        135497, 130962, 135517, 130943],\n",
       "       [135549, 135274, 135256, 135515, 130943, 135549, 135387, 135242,\n",
       "        135260, 135278, 135549, 135387, 135242, 135260, 135278, 135497,\n",
       "        130962, 135517, 130943, 135532],\n",
       "       [135274, 135256, 135515, 130943, 135549, 135387, 135242, 135260,\n",
       "        135278, 135549, 135387, 135242, 135260, 135278, 135497, 130962,\n",
       "        135517, 130943, 135532, 132744],\n",
       "       [135256, 135515, 130943, 135549, 135387, 135242, 135260, 135278,\n",
       "        135549, 135387, 135242, 135260, 135278, 135497, 130962, 135517,\n",
       "        130943, 135532, 132744, 135532],\n",
       "       [135515, 130943, 135549, 135387, 135242, 135260, 135278, 135549,\n",
       "        135387, 135242, 135260, 135278, 135497, 130962, 135517, 130943,\n",
       "        135532, 132744, 135532, 135549],\n",
       "       [130943, 135549, 135387, 135242, 135260, 135278, 135549, 135387,\n",
       "        135242, 135260, 135278, 135497, 130962, 135517, 130943, 135532,\n",
       "        132744, 135532, 135549, 135497],\n",
       "       [135549, 135387, 135242, 135260, 135278, 135549, 135387, 135242,\n",
       "        135260, 135278, 135497, 130962, 135517, 130943, 135532, 132744,\n",
       "        135532, 135549, 135497, 135282],\n",
       "       [135387, 135242, 135260, 135278, 135549, 135387, 135242, 135260,\n",
       "        135278, 135497, 130962, 135517, 130943, 135532, 132744, 135532,\n",
       "        135549, 135497, 135282, 135497],\n",
       "       [135242, 135260, 135278, 135549, 135387, 135242, 135260, 135278,\n",
       "        135497, 130962, 135517, 130943, 135532, 132744, 135532, 135549,\n",
       "        135497, 135282, 135497, 135282],\n",
       "       [135260, 135278, 135549, 135387, 135242, 135260, 135278, 135497,\n",
       "        130962, 135517, 130943, 135532, 132744, 135532, 135549, 135497,\n",
       "        135282, 135497, 135282, 135387]])"
      ]
     },
     "execution_count": 66,
     "metadata": {},
     "output_type": "execute_result"
    }
   ],
   "source": [
    "x"
   ]
  },
  {
   "cell_type": "code",
   "execution_count": 67,
   "metadata": {},
   "outputs": [
    {
     "data": {
      "text/plain": [
       "array([[135549, 135274, 135256, 135515, 130943, 135549, 135387, 135242,\n",
       "        135260, 135278, 135549, 135387, 135242, 135260, 135278, 135497,\n",
       "        130962, 135517, 130943, 135532],\n",
       "       [135274, 135256, 135515, 130943, 135549, 135387, 135242, 135260,\n",
       "        135278, 135549, 135387, 135242, 135260, 135278, 135497, 130962,\n",
       "        135517, 130943, 135532, 132744],\n",
       "       [135256, 135515, 130943, 135549, 135387, 135242, 135260, 135278,\n",
       "        135549, 135387, 135242, 135260, 135278, 135497, 130962, 135517,\n",
       "        130943, 135532, 132744, 135532],\n",
       "       [135515, 130943, 135549, 135387, 135242, 135260, 135278, 135549,\n",
       "        135387, 135242, 135260, 135278, 135497, 130962, 135517, 130943,\n",
       "        135532, 132744, 135532, 135549],\n",
       "       [130943, 135549, 135387, 135242, 135260, 135278, 135549, 135387,\n",
       "        135242, 135260, 135278, 135497, 130962, 135517, 130943, 135532,\n",
       "        132744, 135532, 135549, 135497],\n",
       "       [135549, 135387, 135242, 135260, 135278, 135549, 135387, 135242,\n",
       "        135260, 135278, 135497, 130962, 135517, 130943, 135532, 132744,\n",
       "        135532, 135549, 135497, 135282],\n",
       "       [135387, 135242, 135260, 135278, 135549, 135387, 135242, 135260,\n",
       "        135278, 135497, 130962, 135517, 130943, 135532, 132744, 135532,\n",
       "        135549, 135497, 135282, 135497],\n",
       "       [135242, 135260, 135278, 135549, 135387, 135242, 135260, 135278,\n",
       "        135497, 130962, 135517, 130943, 135532, 132744, 135532, 135549,\n",
       "        135497, 135282, 135497, 135282],\n",
       "       [135260, 135278, 135549, 135387, 135242, 135260, 135278, 135497,\n",
       "        130962, 135517, 130943, 135532, 132744, 135532, 135549, 135497,\n",
       "        135282, 135497, 135282, 135387],\n",
       "       [135278, 135549, 135387, 135242, 135260, 135278, 135497, 130962,\n",
       "        135517, 130943, 135532, 132744, 135532, 135549, 135497, 135282,\n",
       "        135497, 135282, 135387, 135274]])"
      ]
     },
     "execution_count": 67,
     "metadata": {},
     "output_type": "execute_result"
    }
   ],
   "source": [
    "y"
   ]
  }
 ],
 "metadata": {
  "kernelspec": {
   "display_name": "Python 3",
   "language": "python",
   "name": "python3"
  },
  "language_info": {
   "codemirror_mode": {
    "name": "ipython",
    "version": 3
   },
   "file_extension": ".py",
   "mimetype": "text/x-python",
   "name": "python",
   "nbconvert_exporter": "python",
   "pygments_lexer": "ipython3",
   "version": "3.7.4"
  }
 },
 "nbformat": 4,
 "nbformat_minor": 2
}
